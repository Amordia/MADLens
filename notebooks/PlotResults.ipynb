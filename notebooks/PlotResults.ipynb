{
 "cells": [
  {
   "cell_type": "code",
   "execution_count": 1,
   "metadata": {},
   "outputs": [],
   "source": [
    "import os\n",
    "import numpy as np\n",
    "import scipy\n",
    "import matplotlib.pyplot as plt\n",
    "plt.style.use('seaborn-paper')"
   ]
  },
  {
   "cell_type": "code",
   "execution_count": 2,
   "metadata": {},
   "outputs": [],
   "source": [
    "from MADLens.util import *"
   ]
  },
  {
   "cell_type": "markdown",
   "metadata": {},
   "source": [
    "### list all possible run files"
   ]
  },
  {
   "cell_type": "code",
   "execution_count": 3,
   "metadata": {},
   "outputs": [
    {
     "name": "stdout",
     "output_type": "stream",
     "text": [
      "1458ce7\n",
      "['myrun0.json']\n"
     ]
    }
   ],
   "source": [
    "run_dir   = '../runs'\n",
    "\n",
    "githashes = os.listdir(run_dir)\n",
    "for githash in githashes:\n",
    "    print(githash)\n",
    "    path = os.path.join(run_dir,githash)\n",
    "    print(os.listdir(path))"
   ]
  },
  {
   "cell_type": "code",
   "execution_count": 4,
   "metadata": {},
   "outputs": [
    {
     "data": {
      "text/plain": [
       "True"
      ]
     },
     "execution_count": 4,
     "metadata": {},
     "output_type": "execute_result"
    }
   ],
   "source": [
    "my_run0 = Run(githash='1458ce7', label='myrun', rnum=0, local_path='../')\n",
    "\n",
    "my_run0.fill_cl_dicts()"
   ]
  },
  {
   "cell_type": "code",
   "execution_count": 5,
   "metadata": {},
   "outputs": [],
   "source": [
    "mymap=my_run0.get_map(1.0,0)"
   ]
  },
  {
   "cell_type": "code",
   "execution_count": 6,
   "metadata": {},
   "outputs": [
    {
     "data": {
      "text/plain": [
       "<matplotlib.colorbar.Colorbar at 0x7faafca93d50>"
      ]
     },
     "execution_count": 6,
     "metadata": {},
     "output_type": "execute_result"
    },
    {
     "data": {
      "image/png": "[encoded data removed]",
      "text/plain": [
       "<Figure size 432x288 with 2 Axes>"
      ]
     },
     "metadata": {
      "needs_background": "light"
     },
     "output_type": "display_data"
    }
   ],
   "source": [
    "plt.imshow(mymap)\n",
    "plt.colorbar()"
   ]
  },
  {
   "cell_type": "code",
   "execution_count": 10,
   "metadata": {},
   "outputs": [],
   "source": [
    "# a function that computes lensing Cells from different Pks (theory, measured from snapshots)\n",
    "\n",
    "from scipy.interpolate import interp1d\n",
    "def compute_C_ell_from_Pk(measured_powers,run, L, z_central = False, mode='theory', test_interp=False):\n",
    "    \n",
    "    cosmo      = run.cosmo.clone(P_k_max=200,nonlinear=True)\n",
    "    factor     = 3./2.*cosmo.Omega0_m*(cosmo.H0/cosmo.C)**2\n",
    "    nbar       = run.nbar\n",
    "    chi_source = cosmo.comoving_distance(run.z_source)\n",
    "    shotnoise  = 1./nbar\n",
    "    def W_lens(chis,chimax):\n",
    "        return chis*(chimax-chis)/chimax\n",
    "    \n",
    "    L          = np.logspace(np.log10(min(L)),np.log10(max(L)),200)\n",
    "    CL=[]\n",
    "    CL2=[]\n",
    "    \n",
    "\n",
    "    for LL in L:\n",
    "        chis=[]\n",
    "        integrand=[]\n",
    "        #always use same redshifts, also when computing from theory Pk\n",
    "        for ii, (key, value) in enumerate(measured_powers.items()):\n",
    "            # we can look at central or final redshift of the snapshot, PGD is calibrated with respect to final redshift, but is that what we want for lensing?\n",
    "            zf   = float(key)\n",
    " \n",
    "            z= zf\n",
    "            # Pk is measured at zf\n",
    "            Pk   = value['power'][1::]\n",
    "            k    = value['k'][1::]\n",
    "            # shotnoise (seems to be zero in attrs...)\n",
    "            shn  = 1./nbar\n",
    "            \n",
    "            if LL==L[0] and ii==0:\n",
    "                print('shotnoise',shn)\n",
    "            \n",
    "            #again, should we use zf or zc here? does it matter?\n",
    "            chi  = cosmo.comoving_distance(z)\n",
    "            \n",
    "            if chi==0:\n",
    "                chi=1e-2\n",
    "                \n",
    "            k_   = LL/chi\n",
    "            \n",
    "            if mode=='theory':\n",
    "                try:\n",
    "                    Pk_  = cosmo.get_pk(k_,z)\n",
    "                except:\n",
    "                    Pk_  = 0.\n",
    "                    \n",
    "            if mode=='measured extrapolated+ shotnoise':\n",
    "                # take measured power spectrum and use estimate of shotnoise as extrapolation value if shotnoise is bigger than extrapolated value\n",
    "                Pki= interp1d(np.log(k),np.log(Pk-shotnoise),kind='linear',bounds_error=False, fill_value=0.)\n",
    "                Pk_= np.exp(Pki(np.log(k_)))+shotnoise\n",
    "                if k_>max(k):\n",
    "                    Pk_=np.exp(Pki(np.log(max(k))))*(k_/max(k))**(-2)+shn\n",
    "                if Pk_<shn:\n",
    "                    Pk_=shn\n",
    "            if mode=='measured no extrapolation':\n",
    "                # simply extrapolate measured power spectrum (no shot noise addition)\n",
    "                Pki= interp1d(np.log(k),np.log(Pk),kind='linear',bounds_error=False, fill_value=0.)\n",
    "                Pk_= np.exp(Pki(np.log(k_)))\n",
    "            if test_interp:\n",
    "                if LL ==L[0]:\n",
    "                    #do some test plots to check if inter/extrapolation works correctly\n",
    "                    if mode=='measured':\n",
    "                        plt.figure()\n",
    "                        plt.title('z=%.2f'%float(key))\n",
    "                        kk=(L/chi)\n",
    "                        kk= kk[np.where((kk>0)*(kk<100))]\n",
    "                        plt.loglog(kk,cosmo.get_pk(kk,z),label='halofit')\n",
    "                        plt.loglog(k,Pk,label='measured')\n",
    "                        plt.loglog(kk,np.exp(Pki(np.log(kk))),ls='--',label='measured interp+extrapolated')\n",
    "                        plt.axhline(shn,color='green',ls='-.',label='shotnoise level')\n",
    "                        plt.axvline(max(k),color='crimson',ls=':',label='kmax')\n",
    "                        plt.xlabel('k')\n",
    "                        plt.ylabel('P(k)')\n",
    "                        plt.legend()\n",
    "                        plt.show()\n",
    "                    # transfer function with respect to Pk at zc and zf - no big difference without PGD, big difference with!   \n",
    "                    if mode=='measured':\n",
    "                        plt.figure()\n",
    "                        plt.title('transfer at z=%.2f'%float(key))\n",
    "                        plt.semilogx(k[1::],Pk[1::]/cosmo.get_pk(k[1::],zf),label='ratio to Pk at zfinal')\n",
    "                        plt.semilogx(k[1::],Pk[1::]/cosmo.get_pk(k[1::],zc),label='ratio to Pk at zcentral')\n",
    "                        plt.xlabel('k')\n",
    "                        plt.ylabel('P(k)')\n",
    "                        plt.legend()\n",
    "                        plt.show()\n",
    "            # again, use zf here\n",
    "            integrand+=[Pk_*(W_lens(chi,chi_source)/chi*(1+z))**2]\n",
    "            chis+=[chi]\n",
    "        chis_=chis+[chi_source]\n",
    "        integrand=np.asarray(integrand)\n",
    "        chis     =np.asarray(chis)\n",
    "        chis_    =np.asarray(chis_)\n",
    "        dchis    =np.diff(chis_)\n",
    "        #CL+=[np.trapz(y=integrand,x=chis)]\n",
    "        CL+=[np.sum(integrand*dchis)]\n",
    "        \n",
    "    result =np.asarray(CL)*factor**2\n",
    "    #result2=np.asarray(CL2)*factor**2\n",
    "    return L, result#, result2"
   ]
  },
  {
   "cell_type": "code",
   "execution_count": null,
   "metadata": {},
   "outputs": [],
   "source": []
  }
 ],
 "metadata": {
  "kernelspec": {
   "display_name": "MADLens",
   "language": "python",
   "name": "fwdmodel"
  },
  "language_info": {
   "codemirror_mode": {
    "name": "ipython",
    "version": 3
   },
   "file_extension": ".py",
   "mimetype": "text/x-python",
   "name": "python",
   "nbconvert_exporter": "python",
   "pygments_lexer": "ipython3",
   "version": "3.7.4"
  }
 },
 "nbformat": 4,
 "nbformat_minor": 4
}
