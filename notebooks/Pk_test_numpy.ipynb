{
 "cells": [
  {
   "cell_type": "code",
   "execution_count": 1,
   "metadata": {},
   "outputs": [],
   "source": [
    "from nbodykit.cosmology import Planck15\n",
    "import numpy as np\n",
    "import matplotlib.pyplot as plt"
   ]
  },
  {
   "cell_type": "code",
   "execution_count": 2,
   "metadata": {},
   "outputs": [],
   "source": [
    "mul = np.multiply\n",
    "power = np.power\n",
    "div = np.divide\n",
    "add = np.add\n",
    "log = np.log\n",
    "sub = np.subtract\n",
    "exp = np.exp\n",
    "sinc = np.sinc"
   ]
  },
  {
   "cell_type": "code",
   "execution_count": 3,
   "metadata": {},
   "outputs": [],
   "source": [
    "\n",
    "def get_Pk_EH(Omega0_m, cosmo, z, k):\n",
    "    Omega0_m = np.broadcast_to(Omega0_m, np.shape(k))\n",
    "    Obh2 = mul(cosmo.Omega0_b, power(cosmo.h, 2))\n",
    "    Omh2 = mul(Omega0_m, power(cosmo.h, 2))\n",
    "    f_baryon = div(cosmo.Omega0_b, Omega0_m)\n",
    "    theta_cmb = div(cosmo.Tcmb0 , 2.7)\n",
    "\n",
    "    # z and wavenumber of equality\n",
    "    z_eq = mul(mul(2.5e4, Omh2),power(theta_cmb, -4)) # this is 1 + z\n",
    "    k_eq = mul(mul(0.0746, Omh2),power(theta_cmb ,-2)) # units of 1/Mpc\n",
    "\n",
    "    # sound horizon and k_silk\n",
    "    z_drag_b1 = mul(mul(0.313, power(Omh2, -0.419)), add(1, mul(0.607,power(Omh2, 0.674))))\n",
    "    z_drag_b2 = mul(0.238, power(Omh2,0.223))\n",
    "    z_drag    = mul(div(mul(1291, power(Omh2, 0.251)), add(1., mul(0.659, power(Omh2, 0.828)))), add(1., mul(z_drag_b1, power(Obh2, z_drag_b2))))\n",
    "\n",
    "\n",
    "\n",
    "    r_drag = div(mul(mul(mul(31.5, Obh2), power(theta_cmb, -4)), 1000.), add(1,z_drag))\n",
    "    r_eq   = div(mul(mul(mul(31.5, Obh2), power(theta_cmb, -4)), 1000.), add(1,z_eq))\n",
    "\n",
    "    sound_horizon = mul(mul(div(2., mul(3.,k_eq)),power(div(6., r_eq), .5)), \\\n",
    "                    log(div(add(power(add(1,r_drag), .5), power(add(r_drag,r_eq), .5)), add(1, power(r_eq, .5)))))\n",
    "\n",
    "    k_silk = mul(mul(mul(1.6,power( Obh2, 0.52)), power(Omh2,0.73)),add(1, power(mul(10.4,Omh2), -0.95)))\n",
    "\n",
    "    # alpha_c\n",
    "    alpha_c_a1 = mul(power(mul(46.9,Omh2),0.670 ), add(1, power(mul(32.1,Omh2), -0.532)))\n",
    "    alpha_c_a2 = mul(power(mul(12.0,Omh2), 0.424), add(1, power(mul(45.0,Omh2), -0.582)))\n",
    "    alpha_c = mul(power(alpha_c_a1, -f_baryon), power(alpha_c_a2 , power(-f_baryon,3)))\n",
    "\n",
    "    # beta_c\n",
    "    beta_c_b1 = div(0.944, add(1, power(mul(458,Omh2), -0.708)))\n",
    "    beta_c_b2 = mul(0.395, power(Omh2, -0.0266))\n",
    "    beta_c = div(1., add(1 , sub(mul(beta_c_b1, power(sub(1,f_baryon), beta_c_b2)), 1)))\n",
    "\n",
    "    y = div(z_eq, add(1, z_drag))\n",
    "    alpha_b_G = mul(y, \\\n",
    "                    add(mul(-6.,power(add(1,y), .5)),\n",
    "                        mul(add(2.,mul(3.,y)),\n",
    "                            log(div(add(power(add(1,y), .5),1),sub(power(add(1,y), .5),1))))))\n",
    "    alpha_b = mul(mul(mul(2.07,  k_eq), sound_horizon), mul(power(add(1,r_drag),-0.75), alpha_b_G))\n",
    "\n",
    "    beta_node = mul(8.41, power(Omh2, 0.435))\n",
    "    beta_b    = add(add(0.5, f_baryon), mul(sub(3., mul(2.,f_baryon)),power( add(power(mul(17.2,Omh2), 2), 1 ), .5)))\n",
    "\n",
    "\n",
    "    k = k * cosmo.h # now in 1/Mpc\n",
    "\n",
    "    q = div(k, mul(13.41,k_eq))\n",
    "    ks = mul(k,sound_horizon)\n",
    "\n",
    "    T_c_ln_beta   = log(add(np.e, mul(mul(1.8,beta_c),q)))\n",
    "    T_c_ln_nobeta = log(add(np.e, mul(1.8,q)));\n",
    "\n",
    "    T_c_C_alpha   = add(div(14.2, alpha_c), div(386., add(1, mul(69.9,power( q, 1.08)))))\n",
    "\n",
    "\n",
    "    T_c_C_noalpha = add(14.2,  div(386., add(1, mul(69.9, power(q, 1.08)))))\n",
    "\n",
    "\n",
    "    T_c_f = div(1., add(1.,power(div(ks,5.4), 4)))\n",
    "\n",
    "\n",
    "    T_c = add(mul(T_c_f, f(T_c_ln_beta, T_c_C_noalpha, q)), mul(sub(1,T_c_f), f(T_c_ln_beta, T_c_C_alpha,q)))\n",
    "\n",
    "\n",
    "    s_tilde = mul(sound_horizon, power(add(1, power(div(beta_node,ks),3)), (-1./3.)))\n",
    "\n",
    "\n",
    "    ks_tilde = mul(k,s_tilde)\n",
    "\n",
    "\n",
    "    T_b_T0 = f(T_c_ln_nobeta, T_c_C_noalpha, q)\n",
    "\n",
    "\n",
    "    T_b_1 = div(T_b_T0, add(1, power(div(ks,5.2),2 )))\n",
    "\n",
    "\n",
    "    T_b_2 = mul(div(alpha_b, add(1, power(div(beta_b,ks),3 ))), exp(-power(div(k,k_silk), 1.4)))\n",
    "\n",
    "\n",
    "    T_b = mul(sinc(div(ks_tilde,np.pi)), add(T_b_1, T_b_2))\n",
    "\n",
    "    T = add(mul(f_baryon,T_b), mul(sub(1,f_baryon),T_c));\n",
    "    ### ADD GROWTH###\n",
    "    omega_zs = get_omega_z(Omega0_m, z)\n",
    "    omega_lambdas = get_omega_lambda(Omega0_m, z)\n",
    "    growth_z = grow(omega_zs, omega_lambdas, z)\n",
    "    omega_zs = get_omega_z(Omega0_m, 0)\n",
    "    omega_lambdas = get_omega_lambda(Omega0_m, 0)\n",
    "    growth_0 = grow(omega_zs, omega_lambdas, 0)\n",
    "\n",
    "    factor = (k/cosmo.h)**cosmo.n_s\n",
    "\n",
    "    Pk =mul(mul(power(T, 2), div(power(growth_z, 2),power(growth_0,2))),factor)\n",
    "    return Pk"
   ]
  },
  {
   "cell_type": "code",
   "execution_count": null,
   "metadata": {},
   "outputs": [],
   "source": []
  },
  {
   "cell_type": "code",
   "execution_count": 4,
   "metadata": {},
   "outputs": [],
   "source": [
    "\n",
    "def f(a,b,q):\n",
    "    return div(a, add(a ,mul( b, power(q,2))))"
   ]
  },
  {
   "cell_type": "code",
   "execution_count": 5,
   "metadata": {},
   "outputs": [],
   "source": [
    "def get_omega_z(omega0_m, z):\n",
    "    omega0_l = sub(1, omega0_m)\n",
    "    num      = mul(omega0_m, (1+z)**3)\n",
    "    denom    = omega0_l+ num\n",
    "    return div(num, denom)"
   ]
  },
  {
   "cell_type": "code",
   "execution_count": 6,
   "metadata": {},
   "outputs": [],
   "source": [
    "\n",
    "def grow(omega_z, omega_lambda, z):\n",
    "    pre_fac = mul((1+z)**-1, div(mul(5, omega_z), 2))\n",
    "    inside = power(\n",
    "        add(sub(power(omega_z, 4/7), omega_lambda),\n",
    "            mul(add(1, div(omega_z,2)),\n",
    "                add(1, div(omega_lambda,70)))),\n",
    "        -1)\n",
    "    return mul(pre_fac, inside)\n",
    "\n",
    "def get_omega_lambda(omega0_m, z):\n",
    "    omega0_l = sub(1, omega0_m)\n",
    "    denom = add(omega0_l, mul(omega0_m, (1+z)**3))\n",
    "    return div(omega0_l, denom)"
   ]
  },
  {
   "cell_type": "code",
   "execution_count": 32,
   "metadata": {},
   "outputs": [],
   "source": [
    "import mcfit    \n",
    "from scipy.interpolate import InterpolatedUnivariateSpline as spline"
   ]
  },
  {
   "cell_type": "code",
   "execution_count": 127,
   "metadata": {},
   "outputs": [],
   "source": [
    "ks = np.logspace(-4,1,100)\n",
    "h = Planck15.h"
   ]
  },
  {
   "cell_type": "code",
   "execution_count": 313,
   "metadata": {},
   "outputs": [],
   "source": [
    "def get_Pk_EH_model(Om):\n",
    "    cosmo      = Planck15.clone(Omega_ncdm=0)\n",
    "    cosmo      = cosmo.match(Omega0_cb=Om)\n",
    "    Pk         = get_Pk_EH(Omega0_m=Om, cosmo=cosmo, z=0, k=ks)\n",
    "    R, sigmasq = mcfit.TophatVar(ks, lowring=True)(Pk, extrap=True)\n",
    "    \n",
    "    norm = spline(R, sigmasq)(8)**.5\n",
    "    norm = (cosmo.sigma8/norm)**2       \n",
    "    \n",
    "    return Pk*norm\n",
    "\n",
    "def get_Pk(Om):\n",
    "    \n",
    "    cosmo = Planck15\n",
    "    cosmo = cosmo.clone(Omega_ncdm=0)\n",
    "    cosmo = cosmo.match(Omega0_cb=Om)\n",
    "    Pk    = cosmo.get_pk(ks,z=0.)\n",
    "    \n",
    "    return Pk"
   ]
  },
  {
   "cell_type": "code",
   "execution_count": 314,
   "metadata": {},
   "outputs": [],
   "source": [
    "Pk_nu = Planck15.get_pk(ks,z=0.)"
   ]
  },
  {
   "cell_type": "code",
   "execution_count": 316,
   "metadata": {},
   "outputs": [],
   "source": [
    "Pk = get_Pk(Planck15.Omega0_m)"
   ]
  },
  {
   "cell_type": "code",
   "execution_count": 317,
   "metadata": {},
   "outputs": [
    {
     "data": {
      "text/plain": [
       "[<matplotlib.lines.Line2D at 0x2aaaea375fd0>]"
      ]
     },
     "execution_count": 317,
     "metadata": {},
     "output_type": "execute_result"
    },
    {
     "data": {
      "image/png": "[encoded data removed]",
      "text/plain": [
       "<Figure size 432x288 with 1 Axes>"
      ]
     },
     "metadata": {
      "needs_background": "light"
     },
     "output_type": "display_data"
    }
   ],
   "source": [
    "plt.semilogx(ks,(Pk_nu-Pk)/Pk)"
   ]
  },
  {
   "cell_type": "code",
   "execution_count": 318,
   "metadata": {},
   "outputs": [],
   "source": [
    "def loss(Om):\n",
    "    Pk  = get_Pk_model(Om)\n",
    "    Pk_ = get_Pk(Om)\n",
    "    loss = np.sum((Pk-Pk_)**2)\n",
    "    print(Om,loss)\n",
    "    return loss"
   ]
  },
  {
   "cell_type": "code",
   "execution_count": 320,
   "metadata": {},
   "outputs": [],
   "source": [
    "Pk_ = get_Pk(Om=Planck15.Omega0_m)\n",
    "Pk  = get_Pk_model(Om=Planck15.Omega0_m)"
   ]
  },
  {
   "cell_type": "code",
   "execution_count": 325,
   "metadata": {},
   "outputs": [
    {
     "data": {
      "image/png": "[encoded data removed]",
      "text/plain": [
       "<Figure size 432x288 with 1 Axes>"
      ]
     },
     "metadata": {
      "needs_background": "light"
     },
     "output_type": "display_data"
    }
   ],
   "source": [
    "plt.semilogx(ks,(Pk-Pk_)/Pk_)\n",
    "plt.grid()"
   ]
  }
 ],
 "metadata": {
  "kernelspec": {
   "display_name": "fwdmodel",
   "language": "python",
   "name": "fwdmodel"
  },
  "language_info": {
   "codemirror_mode": {
    "name": "ipython",
    "version": 3
   },
   "file_extension": ".py",
   "mimetype": "text/x-python",
   "name": "python",
   "nbconvert_exporter": "python",
   "pygments_lexer": "ipython3",
   "version": "3.7.7"
  }
 },
 "nbformat": 4,
 "nbformat_minor": 4
}
