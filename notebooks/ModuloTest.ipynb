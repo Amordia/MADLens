{
 "cells": [
  {
   "cell_type": "code",
   "execution_count": 51,
   "metadata": {},
   "outputs": [],
   "source": [
    "from MADLens import *\n",
    "from vmad import *\n",
    "import numpy as np\n",
    "import matplotlib.pyplot as plt"
   ]
  },
  {
   "cell_type": "code",
   "execution_count": null,
   "metadata": {},
   "outputs": [],
   "source": [
    "\n"
   ]
  },
  {
   "cell_type": "code",
   "execution_count": null,
   "metadata": {},
   "outputs": [],
   "source": []
  },
  {
   "cell_type": "code",
   "execution_count": 89,
   "metadata": {},
   "outputs": [
    {
     "name": "stdout",
     "output_type": "stream",
     "text": [
      "True\n"
     ]
    }
   ],
   "source": [
    "@autooperator('a->b')\n",
    "def modulo(a,y):\n",
    "    b = a%y\n",
    "    return dict(b=b)\n",
    "\n",
    "\n",
    "mod = modulo.build(y=np.ones(3)*10.1)\n",
    "res, tape = mod.compute(init=dict(a=np.ones((100,3))*100),vout='b',return_tape=True)\n",
    "res1 = mod.compute(init=dict(a=np.ones((100,3))*100.1),vout='b',return_tape=False)\n",
    "res2 = mod.compute(init=dict(a=np.ones((100,3))*99.9),vout='b',return_tape=False)\n",
    "jvp  = tape.get_jvp()\n",
    "jvp_res =jvp.compute(init=dict(a_=0.2), vout='b_')\n",
    "\n",
    "print(np.allclose((res1-res2),jvp_res))"
   ]
  },
  {
   "cell_type": "code",
   "execution_count": 67,
   "metadata": {},
   "outputs": [
    {
     "data": {
      "text/plain": [
       "Text(0, 0.5, '(100+x)%100')"
      ]
     },
     "execution_count": 67,
     "metadata": {},
     "output_type": "execute_result"
    },
    {
     "data": {
      "image/png": "[encoded data removed]",
      "text/plain": [
       "<Figure size 432x288 with 1 Axes>"
      ]
     },
     "metadata": {
      "needs_background": "light"
     },
     "output_type": "display_data"
    }
   ],
   "source": [
    "plt.plot(np.linspace(-200,200,1000),(100+np.linspace(-200,200,1000))%100)\n",
    "plt.xlabel('x')\n",
    "plt.ylabel('(100+x)%100')"
   ]
  },
  {
   "cell_type": "code",
   "execution_count": 90,
   "metadata": {},
   "outputs": [],
   "source": [
    "@operator\n",
    "class modulo:\n",
    "    ain  = {'a' : 'ndarray'}\n",
    "    aout = {'b': 'ndarray'}\n",
    "\n",
    "    def apl(node, a, y):\n",
    "        return dict(b = a%100)\n",
    "\n",
    "    def vjp(node, _b, y):\n",
    "        return dict(_a = _b)\n",
    "\n",
    "    def jvp(node, a_, y):\n",
    "        return dict(b_ = a_)\n",
    "\n",
    "    \n",
    "@autooperator('params->b')\n",
    "def test_modulo(params,y):\n",
    "    a = params*23.2\n",
    "    b = modulo(a,y)\n",
    "    return dict(b=b)"
   ]
  },
  {
   "cell_type": "code",
   "execution_count": 92,
   "metadata": {},
   "outputs": [
    {
     "name": "stdout",
     "output_type": "stream",
     "text": [
      "[4.64 4.64 4.64] 4.64\n"
     ]
    }
   ],
   "source": [
    "mod = test_modulo.build(y=np.ones(3)*14)\n",
    "res, tape = mod.compute(init=dict(params=np.ones(3)*100),vout='b',return_tape=True)\n",
    "res1 = mod.compute(init=dict(params=np.ones(3)*100.1),vout='b',return_tape=False)\n",
    "res2 = mod.compute(init=dict(params=np.ones(3)*99.9),vout='b',return_tape=False)\n",
    "jvp  = tape.get_jvp()\n",
    "jvp_res =jvp.compute(init=dict(params_=0.2), vout='b_')\n",
    "#print(res,res1,res2)\n",
    "print((res1-res2), jvp_res)"
   ]
  },
  {
   "cell_type": "code",
   "execution_count": null,
   "metadata": {},
   "outputs": [],
   "source": []
  }
 ],
 "metadata": {
  "kernelspec": {
   "display_name": "fwdmodel",
   "language": "python",
   "name": "fwdmodel"
  },
  "language_info": {
   "codemirror_mode": {
    "name": "ipython",
    "version": 3
   },
   "file_extension": ".py",
   "mimetype": "text/x-python",
   "name": "python",
   "nbconvert_exporter": "python",
   "pygments_lexer": "ipython3",
   "version": "3.7.7"
  }
 },
 "nbformat": 4,
 "nbformat_minor": 4
}
