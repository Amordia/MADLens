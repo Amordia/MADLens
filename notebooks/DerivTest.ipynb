{
 "cells": [
  {
   "cell_type": "code",
   "execution_count": 12,
   "metadata": {},
   "outputs": [],
   "source": [
    "from MADLens import *\n",
    "import json\n",
    "from vmad.lib import fastpm\n",
    "import numpy as np"
   ]
  },
  {
   "cell_type": "code",
   "execution_count": 15,
   "metadata": {},
   "outputs": [],
   "source": [
    "from MADLens.lightcone import WLSimulation"
   ]
  },
  {
   "cell_type": "code",
   "execution_count": 5,
   "metadata": {},
   "outputs": [],
   "source": [
    "params_file = '/home/nessa/Documents/codes/MADLens/runs/cd8f0a9/deriv_run0.json'"
   ]
  },
  {
   "cell_type": "code",
   "execution_count": 6,
   "metadata": {},
   "outputs": [],
   "source": [
    "with open(params_file, 'r') as f:\n",
    "    params = json.load(f)"
   ]
  },
  {
   "cell_type": "code",
   "execution_count": 7,
   "metadata": {},
   "outputs": [
    {
     "name": "stdout",
     "output_type": "stream",
     "text": [
      "{'logtostderr': False, 'alsologtostderr': False, 'log_dir': '', 'v': 0, 'verbosity': 0, 'stderrthreshold': 'fatal', 'showprefixforinfo': True, 'run_with_pdb': False, 'pdb_post_mortem': False, 'run_with_profiling': False, 'profile_file': None, 'use_cprofile_for_profiling': True, 'only_check_args': False, 'results_path': '/home/nessa/Documents/codes/MADLens/results/cd8f0a9', 'PGD_path': '/home/nessa/Documents/codes/MADLens/pgd_params/', 'N_maps': 1, 'boxsize': 256.0, 'Nmesh': [16, 16, 16], 'Nmesh2D': [32, 32], 'boxsize2D': 6.37616, 'N_steps': 11, 'custom_cosmo': False, 'Omega_m': 0.3089, 'sigma_8': 0.8158, 'PGD': False, 'B': 2, 'zs_source': [1.0], 'interpolate': False, 'debug': True, 'save3D': False, 'save3Dpower': False, 'vjp': True, 'jvp': False, 'forward': True, 'analyze': False, 'label': 'deriv_run', '?': False, 'help': False, 'helpshort': False, 'helpfull': False, 'helpxml': False, 'BoxSize': [256.0, 256.0, 256.0], 'BoxSize2D': [6.37616, 6.37616]}\n"
     ]
    }
   ],
   "source": [
    "print(params)"
   ]
  },
  {
   "cell_type": "code",
   "execution_count": 8,
   "metadata": {},
   "outputs": [],
   "source": [
    "from nbodykit.cosmology import Planck15"
   ]
  },
  {
   "cell_type": "code",
   "execution_count": 9,
   "metadata": {},
   "outputs": [],
   "source": [
    "cosmo = Planck15.match(Omega0_m=params['Omega_m'])\n",
    "cosmo = cosmo.match(sigma8=params['sigma_8'])\n"
   ]
  },
  {
   "cell_type": "code",
   "execution_count": 17,
   "metadata": {},
   "outputs": [
    {
     "name": "stdout",
     "output_type": "stream",
     "text": [
      "number of box replications required to fill field of view: 1.0\n",
      "insufficient number of rotations to fill lightcone\n"
     ]
    }
   ],
   "source": [
    "pm        = fastpm.ParticleMesh(Nmesh=params['Nmesh'], BoxSize=params['BoxSize'], resampler='cic')\n",
    "\n",
    "    # 2D FOV in radians\n",
    "BoxSize2D = [deg/180.*np.pi for deg in params['BoxSize2D']]\n",
    "\n",
    "np.random.seed(123)\n",
    "randseeds = np.random.randint(0,1e6,100)\n",
    "\n",
    "    # generate initial conditions\n",
    "cosmo     = cosmo.clone(P_k_max=30)\n",
    "rho       = pm.generate_whitenoise(seed=randseeds[0], unitary=False, type='complex')\n",
    "rho       = rho.apply(lambda k, v:(cosmo.get_pklin(k.normp(2) ** 0.5, 0) / pm.BoxSize.prod()) ** 0.5 * v)\n",
    "#set zero mode to zero\n",
    "rho.csetitem([0, 0, 0], 0)\n",
    "\n",
    "    # weak lensing simulation object\n",
    "wlsim     = WLSimulation(stages = np.linspace(0.1, 1.0, params['N_steps'], endpoint=True), cosmology=cosmo, pm=pm, boxsize2D=BoxSize2D, params=params)\n",
    "\n",
    "#build\n",
    "if params['interpolate']:\n",
    "    model     = wlsim.run_interpolated.build()\n",
    "else:\n",
    "    model     = wlsim.run.build()\n"
   ]
  },
  {
   "cell_type": "code",
   "execution_count": null,
   "metadata": {},
   "outputs": [],
   "source": [
    "model.compute(vout='kmaps', init=dict(rhok=rho))"
   ]
  },
  {
   "cell_type": "code",
   "execution_count": null,
   "metadata": {},
   "outputs": [],
   "source": []
  }
 ],
 "metadata": {
  "kernelspec": {
   "display_name": "fwdmodel",
   "language": "python",
   "name": "fwdmodel"
  },
  "language_info": {
   "codemirror_mode": {
    "name": "ipython",
    "version": 3
   },
   "file_extension": ".py",
   "mimetype": "text/x-python",
   "name": "python",
   "nbconvert_exporter": "python",
   "pygments_lexer": "ipython3",
   "version": "3.7.4"
  }
 },
 "nbformat": 4,
 "nbformat_minor": 2
}
