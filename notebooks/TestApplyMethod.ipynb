{
 "cells": [
  {
   "cell_type": "code",
   "execution_count": 13,
   "metadata": {},
   "outputs": [
    {
     "ename": "TypeError",
     "evalue": "loop of ufunc does not support argument 0 of type Symbol which has no callable log method",
     "output_type": "error",
     "traceback": [
      "\u001b[0;31m---------------------------------------------------------------------------\u001b[0m",
      "\u001b[0;31mAttributeError\u001b[0m                            Traceback (most recent call last)",
      "\u001b[0;31mAttributeError\u001b[0m: 'Symbol' object has no attribute 'log'",
      "\nThe above exception was the direct cause of the following exception:\n",
      "\u001b[0;31mTypeError\u001b[0m                                 Traceback (most recent call last)",
      "\u001b[0;32m<ipython-input-13-61e41b59b8d5>\u001b[0m in \u001b[0;36m<module>\u001b[0;34m\u001b[0m\n\u001b[1;32m     20\u001b[0m     \u001b[0;32mreturn\u001b[0m \u001b[0mp\u001b[0m\u001b[0;34m\u001b[0m\u001b[0;34m\u001b[0m\u001b[0m\n\u001b[1;32m     21\u001b[0m \u001b[0;34m\u001b[0m\u001b[0m\n\u001b[0;32m---> 22\u001b[0;31m \u001b[0mrho\u001b[0m       \u001b[0;34m=\u001b[0m \u001b[0mrho\u001b[0m\u001b[0;34m.\u001b[0m\u001b[0mapply\u001b[0m\u001b[0;34m(\u001b[0m\u001b[0;32mlambda\u001b[0m \u001b[0mk\u001b[0m\u001b[0;34m,\u001b[0m \u001b[0mv\u001b[0m\u001b[0;34m,\u001b[0m \u001b[0mb\u001b[0m\u001b[0;34m=\u001b[0m\u001b[0;36m2\u001b[0m\u001b[0;34m:\u001b[0m\u001b[0msome_k_function\u001b[0m\u001b[0;34m.\u001b[0m\u001b[0mbuild\u001b[0m\u001b[0;34m(\u001b[0m\u001b[0mx\u001b[0m\u001b[0;34m=\u001b[0m\u001b[0mk\u001b[0m\u001b[0;34m.\u001b[0m\u001b[0mnormp\u001b[0m\u001b[0;34m(\u001b[0m\u001b[0;36m2\u001b[0m\u001b[0;34m)\u001b[0m \u001b[0;34m**\u001b[0m \u001b[0;36m0.5\u001b[0m\u001b[0;34m)\u001b[0m\u001b[0;34m.\u001b[0m\u001b[0mcompute\u001b[0m\u001b[0;34m(\u001b[0m\u001b[0;34m'p'\u001b[0m\u001b[0;34m,\u001b[0m\u001b[0minit\u001b[0m\u001b[0;34m=\u001b[0m\u001b[0mdict\u001b[0m\u001b[0;34m(\u001b[0m\u001b[0ma\u001b[0m\u001b[0;34m=\u001b[0m\u001b[0mb\u001b[0m\u001b[0;34m)\u001b[0m\u001b[0;34m)\u001b[0m \u001b[0;34m*\u001b[0m \u001b[0mv\u001b[0m\u001b[0;34m)\u001b[0m\u001b[0;34m\u001b[0m\u001b[0;34m\u001b[0m\u001b[0m\n\u001b[0m",
      "\u001b[0;32m~/.conda/envs/fwdmodel/lib/python3.7/site-packages/pmesh/pm.py\u001b[0m in \u001b[0;36mapply\u001b[0;34m(self, func, kind, out)\u001b[0m\n\u001b[1;32m   1045\u001b[0m         \"\"\"\n\u001b[1;32m   1046\u001b[0m         \u001b[0;32massert\u001b[0m \u001b[0mkind\u001b[0m \u001b[0;32min\u001b[0m \u001b[0;34m[\u001b[0m\u001b[0;34m'wavenumber'\u001b[0m\u001b[0;34m,\u001b[0m \u001b[0;34m'circular'\u001b[0m\u001b[0;34m,\u001b[0m \u001b[0;34m'index'\u001b[0m\u001b[0;34m]\u001b[0m\u001b[0;34m\u001b[0m\u001b[0;34m\u001b[0m\u001b[0m\n\u001b[0;32m-> 1047\u001b[0;31m         \u001b[0;32mreturn\u001b[0m \u001b[0mField\u001b[0m\u001b[0;34m.\u001b[0m\u001b[0mapply\u001b[0m\u001b[0;34m(\u001b[0m\u001b[0mself\u001b[0m\u001b[0;34m,\u001b[0m \u001b[0mfunc\u001b[0m\u001b[0;34m,\u001b[0m \u001b[0mkind\u001b[0m\u001b[0;34m,\u001b[0m \u001b[0mout\u001b[0m\u001b[0;34m)\u001b[0m\u001b[0;34m\u001b[0m\u001b[0;34m\u001b[0m\u001b[0m\n\u001b[0m\u001b[1;32m   1048\u001b[0m \u001b[0;34m\u001b[0m\u001b[0m\n\u001b[1;32m   1049\u001b[0m \u001b[0;32mclass\u001b[0m \u001b[0mUntransposedComplexField\u001b[0m\u001b[0;34m(\u001b[0m\u001b[0mBaseComplexField\u001b[0m\u001b[0;34m)\u001b[0m\u001b[0;34m:\u001b[0m\u001b[0;34m\u001b[0m\u001b[0;34m\u001b[0m\u001b[0m\n",
      "\u001b[0;32m~/.conda/envs/fwdmodel/lib/python3.7/site-packages/pmesh/pm.py\u001b[0m in \u001b[0;36mapply\u001b[0;34m(self, func, kind, out)\u001b[0m\n\u001b[1;32m    616\u001b[0m             \u001b[0;32melif\u001b[0m \u001b[0mkind\u001b[0m \u001b[0;34m==\u001b[0m \u001b[0;34m'wavenumber'\u001b[0m\u001b[0;34m:\u001b[0m\u001b[0;34m\u001b[0m\u001b[0;34m\u001b[0m\u001b[0m\n\u001b[1;32m    617\u001b[0m                 \u001b[0mk\u001b[0m \u001b[0;34m=\u001b[0m \u001b[0mx\u001b[0m\u001b[0;34m\u001b[0m\u001b[0;34m\u001b[0m\u001b[0m\n\u001b[0;32m--> 618\u001b[0;31m                 \u001b[0moslab\u001b[0m\u001b[0;34m[\u001b[0m\u001b[0;34m...\u001b[0m\u001b[0;34m]\u001b[0m \u001b[0;34m=\u001b[0m \u001b[0mfunc\u001b[0m\u001b[0;34m(\u001b[0m\u001b[0mk\u001b[0m\u001b[0;34m,\u001b[0m \u001b[0mislab\u001b[0m\u001b[0;34m)\u001b[0m\u001b[0;34m\u001b[0m\u001b[0;34m\u001b[0m\u001b[0m\n\u001b[0m\u001b[1;32m    619\u001b[0m             \u001b[0;32melif\u001b[0m \u001b[0mkind\u001b[0m \u001b[0;34m==\u001b[0m \u001b[0;34m'circular'\u001b[0m\u001b[0;34m:\u001b[0m\u001b[0;34m\u001b[0m\u001b[0;34m\u001b[0m\u001b[0m\n\u001b[1;32m    620\u001b[0m                 \u001b[0mw\u001b[0m \u001b[0;34m=\u001b[0m \u001b[0;34m[\u001b[0m \u001b[0mki\u001b[0m \u001b[0;34m*\u001b[0m \u001b[0mL\u001b[0m \u001b[0;34m/\u001b[0m \u001b[0mN\u001b[0m \u001b[0;32mfor\u001b[0m \u001b[0mki\u001b[0m\u001b[0;34m,\u001b[0m \u001b[0mL\u001b[0m\u001b[0;34m,\u001b[0m \u001b[0mN\u001b[0m \u001b[0;32min\u001b[0m \u001b[0mzip\u001b[0m\u001b[0;34m(\u001b[0m\u001b[0mx\u001b[0m\u001b[0;34m,\u001b[0m \u001b[0mself\u001b[0m\u001b[0;34m.\u001b[0m\u001b[0mBoxSize\u001b[0m\u001b[0;34m,\u001b[0m \u001b[0mself\u001b[0m\u001b[0;34m.\u001b[0m\u001b[0mNmesh\u001b[0m\u001b[0;34m)\u001b[0m\u001b[0;34m]\u001b[0m\u001b[0;34m\u001b[0m\u001b[0;34m\u001b[0m\u001b[0m\n",
      "\u001b[0;32m<ipython-input-13-61e41b59b8d5>\u001b[0m in \u001b[0;36m<lambda>\u001b[0;34m(k, v, b)\u001b[0m\n\u001b[1;32m     20\u001b[0m     \u001b[0;32mreturn\u001b[0m \u001b[0mp\u001b[0m\u001b[0;34m\u001b[0m\u001b[0;34m\u001b[0m\u001b[0m\n\u001b[1;32m     21\u001b[0m \u001b[0;34m\u001b[0m\u001b[0m\n\u001b[0;32m---> 22\u001b[0;31m \u001b[0mrho\u001b[0m       \u001b[0;34m=\u001b[0m \u001b[0mrho\u001b[0m\u001b[0;34m.\u001b[0m\u001b[0mapply\u001b[0m\u001b[0;34m(\u001b[0m\u001b[0;32mlambda\u001b[0m \u001b[0mk\u001b[0m\u001b[0;34m,\u001b[0m \u001b[0mv\u001b[0m\u001b[0;34m,\u001b[0m \u001b[0mb\u001b[0m\u001b[0;34m=\u001b[0m\u001b[0;36m2\u001b[0m\u001b[0;34m:\u001b[0m\u001b[0msome_k_function\u001b[0m\u001b[0;34m.\u001b[0m\u001b[0mbuild\u001b[0m\u001b[0;34m(\u001b[0m\u001b[0mx\u001b[0m\u001b[0;34m=\u001b[0m\u001b[0mk\u001b[0m\u001b[0;34m.\u001b[0m\u001b[0mnormp\u001b[0m\u001b[0;34m(\u001b[0m\u001b[0;36m2\u001b[0m\u001b[0;34m)\u001b[0m \u001b[0;34m**\u001b[0m \u001b[0;36m0.5\u001b[0m\u001b[0;34m)\u001b[0m\u001b[0;34m.\u001b[0m\u001b[0mcompute\u001b[0m\u001b[0;34m(\u001b[0m\u001b[0;34m'p'\u001b[0m\u001b[0;34m,\u001b[0m\u001b[0minit\u001b[0m\u001b[0;34m=\u001b[0m\u001b[0mdict\u001b[0m\u001b[0;34m(\u001b[0m\u001b[0ma\u001b[0m\u001b[0;34m=\u001b[0m\u001b[0mb\u001b[0m\u001b[0;34m)\u001b[0m\u001b[0;34m)\u001b[0m \u001b[0;34m*\u001b[0m \u001b[0mv\u001b[0m\u001b[0;34m)\u001b[0m\u001b[0;34m\u001b[0m\u001b[0;34m\u001b[0m\u001b[0m\n\u001b[0m",
      "\u001b[0;32m~/.conda/envs/fwdmodel/lib/python3.7/site-packages/vmad/core/autooperator.py\u001b[0m in \u001b[0;36mbuild\u001b[0;34m(obj, **kwargs)\u001b[0m\n\u001b[1;32m     78\u001b[0m                 \u001b[0;32mraise\u001b[0m \u001b[0mModelError\u001b[0m\u001b[0;34m(\u001b[0m\u001b[0;34m\"argname %s is an input, shall not be used to produce a model\"\u001b[0m \u001b[0;34m%\u001b[0m \u001b[0margname\u001b[0m\u001b[0;34m)\u001b[0m\u001b[0;34m\u001b[0m\u001b[0;34m\u001b[0m\u001b[0m\n\u001b[1;32m     79\u001b[0m \u001b[0;34m\u001b[0m\u001b[0m\n\u001b[0;32m---> 80\u001b[0;31m         \u001b[0;32mreturn\u001b[0m \u001b[0m_build\u001b[0m\u001b[0;34m(\u001b[0m\u001b[0mobj\u001b[0m\u001b[0;34m,\u001b[0m \u001b[0mkwargs\u001b[0m\u001b[0;34m)\u001b[0m\u001b[0;34m\u001b[0m\u001b[0;34m\u001b[0m\u001b[0m\n\u001b[0m\u001b[1;32m     81\u001b[0m \u001b[0;34m\u001b[0m\u001b[0m\n\u001b[1;32m     82\u001b[0m     \u001b[0;32mdef\u001b[0m \u001b[0mprecompute\u001b[0m\u001b[0;34m(\u001b[0m\u001b[0mobj\u001b[0m\u001b[0;34m,\u001b[0m \u001b[0;34m**\u001b[0m\u001b[0mkwargs\u001b[0m\u001b[0;34m)\u001b[0m\u001b[0;34m:\u001b[0m\u001b[0;34m\u001b[0m\u001b[0;34m\u001b[0m\u001b[0m\n",
      "\u001b[0;32m~/.conda/envs/fwdmodel/lib/python3.7/site-packages/vmad/core/autooperator.py\u001b[0m in \u001b[0;36m_build\u001b[0;34m(obj, kwargs)\u001b[0m\n\u001b[1;32m    253\u001b[0m         \u001b[0;32mfor\u001b[0m \u001b[0margname\u001b[0m \u001b[0;32min\u001b[0m \u001b[0mobj\u001b[0m\u001b[0;34m.\u001b[0m\u001b[0main\u001b[0m\u001b[0;34m:\u001b[0m\u001b[0;34m\u001b[0m\u001b[0;34m\u001b[0m\u001b[0m\n\u001b[1;32m    254\u001b[0m             \u001b[0mmodel_args\u001b[0m\u001b[0;34m[\u001b[0m\u001b[0margname\u001b[0m\u001b[0;34m]\u001b[0m \u001b[0;34m=\u001b[0m \u001b[0mm\u001b[0m\u001b[0;34m.\u001b[0m\u001b[0minput\u001b[0m\u001b[0;34m(\u001b[0m\u001b[0margname\u001b[0m\u001b[0;34m)\u001b[0m\u001b[0;34m\u001b[0m\u001b[0;34m\u001b[0m\u001b[0m\n\u001b[0;32m--> 255\u001b[0;31m         \u001b[0mr\u001b[0m \u001b[0;34m=\u001b[0m \u001b[0mimpl\u001b[0m\u001b[0;34m(\u001b[0m\u001b[0mm\u001b[0m\u001b[0;34m,\u001b[0m \u001b[0;34m**\u001b[0m\u001b[0mmodel_args\u001b[0m\u001b[0;34m)\u001b[0m\u001b[0;34m\u001b[0m\u001b[0;34m\u001b[0m\u001b[0m\n\u001b[0m\u001b[1;32m    256\u001b[0m         \u001b[0;31m# assert outputs are generated\u001b[0m\u001b[0;34m\u001b[0m\u001b[0;34m\u001b[0m\u001b[0;34m\u001b[0m\u001b[0m\n\u001b[1;32m    257\u001b[0m         \u001b[0;32mfor\u001b[0m \u001b[0margname\u001b[0m \u001b[0;32min\u001b[0m \u001b[0mobj\u001b[0m\u001b[0;34m.\u001b[0m\u001b[0maout\u001b[0m\u001b[0;34m:\u001b[0m\u001b[0;34m\u001b[0m\u001b[0;34m\u001b[0m\u001b[0m\n",
      "\u001b[0;32m~/.conda/envs/fwdmodel/lib/python3.7/site-packages/vmad/core/autooperator.py\u001b[0m in \u001b[0;36mmain\u001b[0;34m(__unused_argument_3333__, *args, **kwargs)\u001b[0m\n\u001b[1;32m    123\u001b[0m \u001b[0;34m\u001b[0m\u001b[0m\n\u001b[1;32m    124\u001b[0m     \u001b[0;32mdef\u001b[0m \u001b[0mmain\u001b[0m\u001b[0;34m(\u001b[0m\u001b[0m__unused_argument_3333__\u001b[0m\u001b[0;34m,\u001b[0m \u001b[0;34m*\u001b[0m\u001b[0margs\u001b[0m\u001b[0;34m,\u001b[0m \u001b[0;34m**\u001b[0m\u001b[0mkwargs\u001b[0m\u001b[0;34m)\u001b[0m\u001b[0;34m:\u001b[0m\u001b[0;34m\u001b[0m\u001b[0;34m\u001b[0m\u001b[0m\n\u001b[0;32m--> 125\u001b[0;31m         \u001b[0;32mreturn\u001b[0m \u001b[0mfunc\u001b[0m\u001b[0;34m(\u001b[0m\u001b[0;34m*\u001b[0m\u001b[0margs\u001b[0m\u001b[0;34m,\u001b[0m \u001b[0;34m**\u001b[0m\u001b[0mkwargs\u001b[0m\u001b[0;34m)\u001b[0m\u001b[0;34m\u001b[0m\u001b[0;34m\u001b[0m\u001b[0m\n\u001b[0m\u001b[1;32m    126\u001b[0m \u001b[0;34m\u001b[0m\u001b[0m\n\u001b[1;32m    127\u001b[0m     \u001b[0margnames\u001b[0m \u001b[0;34m=\u001b[0m \u001b[0mfunc\u001b[0m\u001b[0;34m.\u001b[0m\u001b[0m__code__\u001b[0m\u001b[0;34m.\u001b[0m\u001b[0mco_varnames\u001b[0m\u001b[0;34m[\u001b[0m\u001b[0;34m:\u001b[0m\u001b[0mfunc\u001b[0m\u001b[0;34m.\u001b[0m\u001b[0m__code__\u001b[0m\u001b[0;34m.\u001b[0m\u001b[0mco_argcount\u001b[0m\u001b[0;34m]\u001b[0m\u001b[0;34m\u001b[0m\u001b[0;34m\u001b[0m\u001b[0m\n",
      "\u001b[0;32m<ipython-input-13-61e41b59b8d5>\u001b[0m in \u001b[0;36msome_k_function\u001b[0;34m(a, x)\u001b[0m\n\u001b[1;32m     17\u001b[0m \u001b[0;32mdef\u001b[0m \u001b[0msome_k_function\u001b[0m\u001b[0;34m(\u001b[0m\u001b[0ma\u001b[0m\u001b[0;34m,\u001b[0m\u001b[0mx\u001b[0m\u001b[0;34m)\u001b[0m\u001b[0;34m:\u001b[0m\u001b[0;34m\u001b[0m\u001b[0;34m\u001b[0m\u001b[0m\n\u001b[1;32m     18\u001b[0m     \u001b[0mx\u001b[0m\u001b[0;34m=\u001b[0m \u001b[0mnp\u001b[0m\u001b[0;34m.\u001b[0m\u001b[0masarray\u001b[0m\u001b[0;34m(\u001b[0m\u001b[0mx\u001b[0m\u001b[0;34m)\u001b[0m\u001b[0;34m\u001b[0m\u001b[0;34m\u001b[0m\u001b[0m\n\u001b[0;32m---> 19\u001b[0;31m     \u001b[0mp\u001b[0m \u001b[0;34m=\u001b[0m \u001b[0mnp\u001b[0m\u001b[0;34m.\u001b[0m\u001b[0mlog\u001b[0m\u001b[0;34m(\u001b[0m\u001b[0ma\u001b[0m\u001b[0;34m*\u001b[0m\u001b[0mx\u001b[0m\u001b[0;34m+\u001b[0m\u001b[0;36m1e-23\u001b[0m\u001b[0;34m)\u001b[0m\u001b[0;34m\u001b[0m\u001b[0;34m\u001b[0m\u001b[0m\n\u001b[0m\u001b[1;32m     20\u001b[0m     \u001b[0;32mreturn\u001b[0m \u001b[0mp\u001b[0m\u001b[0;34m\u001b[0m\u001b[0;34m\u001b[0m\u001b[0m\n\u001b[1;32m     21\u001b[0m \u001b[0;34m\u001b[0m\u001b[0m\n",
      "\u001b[0;31mTypeError\u001b[0m: loop of ufunc does not support argument 0 of type Symbol which has no callable log method"
     ]
    }
   ],
   "source": [
    "from vmad.lib import fastpm\n",
    "from nbodykit.cosmology import Planck15 as cosmo\n",
    "import numpy as np\n",
    "from vmad import autooperator\n",
    "\n",
    "# particle mesh for fastpm simulation\n",
    "pm        = fastpm.ParticleMesh(Nmesh=[16,16,16], BoxSize=[256,256,256], resampler='cic')\n",
    "\n",
    "np.random.seed(123)\n",
    "randseeds = np.random.randint(0,1e6,100)\n",
    "\n",
    "# generate initial conditions\n",
    "cosmo     = cosmo.clone(P_k_max=30)\n",
    "rho       = pm.generate_whitenoise(seed=randseeds[0], unitary=False, type='complex')\n",
    "\n",
    "@autooperator('a->p')\n",
    "def some_k_function(a,x):\n",
    "    x= np.asarray(x)\n",
    "    p = np.log(a*x+1e-23)\n",
    "    return p\n",
    "\n",
    "rho       = rho.apply(lambda k, v, b=2:some_k_function.build(x=k.normp(2) ** 0.5).compute('p',init=dict(a=b)) * v)"
   ]
  },
  {
   "cell_type": "code",
   "execution_count": 21,
   "metadata": {},
   "outputs": [],
   "source": [
    "\n"
   ]
  },
  {
   "cell_type": "code",
   "execution_count": 19,
   "metadata": {},
   "outputs": [
    {
     "data": {
      "text/plain": [
       "TransposedComplexField:array([[[-0.        +0.00000000e+00j, -0.68293321-1.74493672e+00j,\n",
       "          1.09529993+4.18046039e-01j, ..., -0.10393644-1.02668948e+00j,\n",
       "         -0.30687209+5.81611069e-01j,  0.88579498-0.00000000e+00j],\n",
       "        [ 3.2303746 -2.46046536e+00j,  0.39866652-1.08843773e-01j,\n",
       "         -0.79592482-3.91475061e+00j, ...,  0.1159168 +1.36168111e+00j,\n",
       "         -0.86707673-3.39730094e-01j, -0.36912632+4.81867620e-01j],\n",
       "        [ 1.88542598+1.60874531e+00j, -3.01149304+3.02022733e-01j,\n",
       "         -0.7216178 -1.91833684e+00j, ...,  0.93147041+1.95032224e-01j,\n",
       "          1.954815  -1.11924331e-01j, -1.03083693-1.70701012e-01j],\n",
       "        ...,\n",
       "        [ 0.27223555-1.12665056e+00j, -0.5577635 -2.13162694e+00j,\n",
       "         -0.96123532+1.67837014e-01j, ..., -1.72471932-9.68199373e-01j,\n",
       "          0.63412594-1.04538612e+00j, -0.86941193+1.96624712e-01j],\n",
       "        [ 1.88542598-1.60874531e+00j,  1.63787521+8.37849623e-01j,\n",
       "         -0.17329857-1.53669477e+00j, ...,  0.76667416+9.50709958e-01j,\n",
       "         -0.64487471+1.22244176e+00j, -1.03083693+1.70701012e-01j],\n",
       "        [ 3.2303746 +2.46046536e+00j,  0.28777235+1.49019659e+00j,\n",
       "         -1.52627172+1.24853269e+00j, ..., -0.28050217+2.45930365e-01j,\n",
       "         -1.25214437+4.48631153e-01j, -0.36912632-4.81867620e-01j]],\n",
       "\n",
       "       [[-0.68450153+1.36620259e+00j,  1.87627733+1.06785434e+00j,\n",
       "         -1.69208767+3.30695854e+00j, ...,  0.37073305+3.91322052e-01j,\n",
       "          1.49230689+6.29599858e-01j,  0.20268008-4.40607470e-01j],\n",
       "        [-0.05480756+2.42512064e+00j, -1.89841103-2.02431534e-01j,\n",
       "         -1.46697946-1.03963645e-01j, ...,  0.50971129+5.83275598e-02j,\n",
       "          0.9246851 +2.56682264e-01j, -0.02072374-7.01847008e-01j],\n",
       "        [-2.38117565-7.30849341e-02j, -0.08147485-2.65764907e+00j,\n",
       "          1.29242003+1.04031998e+00j, ..., -1.4044225 -6.16146314e-01j,\n",
       "          1.84094655+1.14271931e+00j,  0.16845746+7.68108764e-02j],\n",
       "        ...,\n",
       "        [ 0.22499302-4.70671198e-01j, -2.23258496-1.09252991e-01j,\n",
       "         -1.78149009-9.35892926e-01j, ...,  0.08370712+7.49126360e-01j,\n",
       "         -1.41809167-4.13428762e-01j,  0.4377041 -7.05767544e-01j],\n",
       "        [-3.58378677-3.77794443e+00j, -0.19618073+7.36199431e-01j,\n",
       "         -0.51726522-2.68952090e-01j, ...,  1.23774192-1.28652750e+00j,\n",
       "          0.20346768-7.41892990e-01j,  0.06899872+1.61339304e+00j],\n",
       "        [ 0.14497841+5.46055515e-02j,  1.55288641-1.39355018e+00j,\n",
       "          1.70168284+7.43148545e-01j, ...,  1.78153227-6.35661760e-02j,\n",
       "          0.40461774+4.65370516e-01j,  0.6487803 -7.03033939e-01j]],\n",
       "\n",
       "       [[ 0.26107352+1.87603285e-02j, -2.71533722+9.40720853e-01j,\n",
       "          0.66082229+7.55334960e-01j, ...,  0.87655224+1.52698858e+00j,\n",
       "          0.11457239+1.18599141e-01j,  0.28486227-2.73425628e-01j],\n",
       "        [-0.9068853 -1.66809524e+00j, -0.33243417+2.00671151e+00j,\n",
       "          0.49111222+2.64534784e-01j, ...,  0.23282854-4.64072099e-01j,\n",
       "          0.58728686-4.98545818e-01j,  0.12694317-1.34976626e+00j],\n",
       "        [ 0.29309978-7.58531817e-01j, -1.31505122-1.49401030e+00j,\n",
       "         -0.70329993-9.95355763e-01j, ...,  0.87628439-8.24608247e-01j,\n",
       "          0.3581363 +6.10987934e-01j,  2.52722586+2.23543979e-01j],\n",
       "        ...,\n",
       "        [-0.65895235+1.17337080e+00j,  1.44173724-2.00306771e-01j,\n",
       "          0.73535087+9.70522258e-01j, ..., -0.71455435+4.89357328e-01j,\n",
       "          0.39820943+4.39991168e-01j, -0.10994075-2.13520853e-01j],\n",
       "        [-0.31710867+2.80771612e-01j, -1.08891828+1.38832110e+00j,\n",
       "          2.05079902-1.12468156e+00j, ...,  0.60901688-1.40093612e-01j,\n",
       "          0.58912036+3.68104514e-01j, -0.98528137+3.93256618e-01j],\n",
       "        [ 0.96734707-1.25068576e+00j,  1.021701  +4.21714440e-01j,\n",
       "          1.01882753-9.28778272e-01j, ..., -2.02039263+1.56860286e-01j,\n",
       "          0.49790673+6.91930049e-01j,  0.4903002 -9.03088177e-02j]],\n",
       "\n",
       "       ...,\n",
       "\n",
       "       [[-2.51022511+5.85544057e-01j, -0.36166312+1.87522865e+00j,\n",
       "         -1.98422563-2.46245745e+00j, ...,  0.48351948-1.18904128e-01j,\n",
       "          0.64110121+2.94555429e-01j, -0.05134873-6.90644839e-01j],\n",
       "        [-0.92949486-4.60728564e-02j, -0.32551049-2.42025854e-01j,\n",
       "          0.19383652-1.04536890e+00j, ..., -0.98021038-2.52260255e-01j,\n",
       "          0.50066673+9.72230708e-01j,  0.90323081+1.04563462e+00j],\n",
       "        [ 0.58811268-1.11671271e-01j, -0.29156486+1.49506120e+00j,\n",
       "         -2.44213632+1.41795726e+00j, ..., -0.67282894+1.03161255e-01j,\n",
       "         -0.76550885-8.34027217e-02j,  0.23304383-6.35523096e-02j],\n",
       "        ...,\n",
       "        [-1.48385985-1.13114217e+00j, -3.09030972+5.07143304e-01j,\n",
       "         -0.00564624-6.64255634e-01j, ..., -0.74773057-5.13273252e-01j,\n",
       "         -0.02508218+8.58709461e-01j,  0.36240051-3.18008678e-01j],\n",
       "        [ 0.3119995 -1.68452371e+00j,  2.4203023 +5.12694688e-01j,\n",
       "          1.01746957-7.50752037e-01j, ...,  1.02630968-2.12066245e-02j,\n",
       "         -0.2258003 -2.37614164e-01j, -0.08317668+6.26478085e-01j],\n",
       "        [-0.36479516-5.06240648e-01j, -1.66187516+3.49168975e-02j,\n",
       "          1.13409079+4.66369658e-01j, ...,  0.66451921+6.70386759e-01j,\n",
       "          0.66355756-8.94874345e-01j, -0.10973692-3.96822905e-01j]],\n",
       "\n",
       "       [[ 0.26107352-1.87603285e-02j, -3.40399515+9.75077000e-01j,\n",
       "          0.63667977-3.09105857e+00j, ..., -0.0853413 -9.33370759e-01j,\n",
       "          1.53326433+4.51412488e-01j,  0.28486227+2.73425628e-01j],\n",
       "        [ 0.96734707+1.25068576e+00j,  3.44881296+1.01386064e-01j,\n",
       "         -1.44092418+2.16873940e-01j, ...,  0.21427293+1.87595753e+00j,\n",
       "         -0.06637308+1.71217521e-01j,  0.4903002 +9.03088177e-02j],\n",
       "        [-0.31710867-2.80771612e-01j,  0.22550086-1.42278858e+00j,\n",
       "         -1.66279184+9.89678369e-01j, ...,  0.16459795-9.25794419e-01j,\n",
       "         -0.88482033-3.96729568e-01j, -0.98528137-3.93256618e-01j],\n",
       "        ...,\n",
       "        [ 0.00398437-1.15395805e+00j,  0.55543422-6.74545290e-01j,\n",
       "          0.6336461 +1.00881135e+00j, ..., -0.27004039+4.07880787e-01j,\n",
       "          0.62498161+1.58004505e-01j, -0.19335556-4.63664449e-01j],\n",
       "        [ 0.29309978+7.58531817e-01j, -0.20560401-1.38348918e+00j,\n",
       "         -1.45026449-1.06366591e+00j, ...,  0.18951839+1.30977740e-01j,\n",
       "         -1.19968447-1.06313315e-03j,  2.52722586-2.23543979e-01j],\n",
       "        [-0.9068853 +1.66809524e+00j, -0.41195184-3.63782456e-01j,\n",
       "         -0.58061935+2.17755017e+00j, ...,  1.77814993+6.87878236e-01j,\n",
       "          1.41973513+8.90101319e-02j,  0.12694317+1.34976626e+00j]],\n",
       "\n",
       "       [[-0.68450153-1.36620259e+00j, -3.13998361+3.30884946e+00j,\n",
       "          1.69578935+5.13505851e-01j, ...,  0.58565742-1.31879360e-01j,\n",
       "         -0.73737768-2.29613881e+00j,  0.20268008+4.40607470e-01j],\n",
       "        [ 0.14497841-5.46055515e-02j,  2.74866481-1.24453792e+00j,\n",
       "         -1.42739333+3.22885436e-01j, ...,  1.02311045+6.96757000e-02j,\n",
       "         -0.13708952-1.42683639e-01j,  0.6487803 +7.03033939e-01j],\n",
       "        [-3.58378677+3.77794443e+00j,  2.43996287-8.85342343e-01j,\n",
       "          1.5684172 +5.03538920e-01j, ...,  0.1221599 +5.59667882e-02j,\n",
       "         -1.34737327+6.61455470e-01j,  0.06899872-1.61339304e+00j],\n",
       "        ...,\n",
       "        [ 1.93992519-4.00021168e-01j,  0.3256863 +2.17874531e+00j,\n",
       "          2.63052559+1.07442332e+00j, ...,  0.37308719+1.24413342e+00j,\n",
       "          0.32361759-1.66068934e-01j, -0.344629  +8.71863159e-01j],\n",
       "        [-2.38117565+7.30849341e-02j,  0.65264602+9.58137051e-01j,\n",
       "         -0.43774423+2.91566566e+00j, ...,  0.81217544+1.23969119e-01j,\n",
       "          0.71900161+5.29422968e-02j,  0.16845746-7.68108764e-02j],\n",
       "        [-0.05480756-2.42512064e+00j,  3.3081778 -1.48157875e-01j,\n",
       "          0.36802151+2.69263793e+00j, ...,  0.59149834+3.93785267e-01j,\n",
       "          1.85797415+1.45551891e+00j, -0.02072374+7.01847008e-01j]]])"
      ]
     },
     "execution_count": 19,
     "metadata": {},
     "output_type": "execute_result"
    }
   ],
   "source": [
    "rho"
   ]
  },
  {
   "cell_type": "code",
   "execution_count": null,
   "metadata": {},
   "outputs": [],
   "source": [
    "def some_k_function(a,x):\n",
    "    p = np.log(a*x+1e-23)\n",
    "    return p"
   ]
  },
  {
   "cell_type": "code",
   "execution_count": null,
   "metadata": {},
   "outputs": [],
   "source": []
  },
  {
   "cell_type": "code",
   "execution_count": null,
   "metadata": {},
   "outputs": [],
   "source": []
  },
  {
   "cell_type": "code",
   "execution_count": 19,
   "metadata": {},
   "outputs": [],
   "source": []
  },
  {
   "cell_type": "markdown",
   "metadata": {},
   "source": [
    "data= Ax+b, A**2+b"
   ]
  },
  {
   "cell_type": "code",
   "execution_count": 61,
   "metadata": {},
   "outputs": [],
   "source": [
    "\n",
    "    "
   ]
  },
  {
   "cell_type": "code",
   "execution_count": 62,
   "metadata": {},
   "outputs": [],
   "source": []
  },
  {
   "cell_type": "code",
   "execution_count": null,
   "metadata": {},
   "outputs": [],
   "source": [
    "#"
   ]
  },
  {
   "cell_type": "code",
   "execution_count": 63,
   "metadata": {},
   "outputs": [
    {
     "data": {
      "image/png": "[encoded data removed]",
      "text/plain": [
       "<Figure size 432x288 with 1 Axes>"
      ]
     },
     "metadata": {
      "needs_background": "light"
     },
     "output_type": "display_data"
    }
   ],
   "source": [
    "_= plt.hist(my_data, bins=10)"
   ]
  },
  {
   "cell_type": "code",
   "execution_count": 66,
   "metadata": {},
   "outputs": [
    {
     "data": {
      "text/plain": [
       "array([ 0.        ,  0.95673815,  2.1249818 ,  3.06524476,  3.2455951 ,\n",
       "        5.33191437,  5.67630108,  7.22942529,  7.89025787,  9.36509491,\n",
       "        8.89491334, 11.20140018, 11.36840593, 14.14875912, 14.61298049,\n",
       "       13.91637583, 14.06092956, 16.46019687, 18.31728364, 21.61034   ])"
      ]
     },
     "execution_count": 66,
     "metadata": {},
     "output_type": "execute_result"
    },
    {
     "data": {
      "image/png": "[encoded data removed]",
      "text/plain": [
       "<Figure size 432x288 with 1 Axes>"
      ]
     },
     "metadata": {
      "needs_background": "light"
     },
     "output_type": "display_data"
    }
   ],
   "source": [
    "import numpy as np\n",
    "import matplotlib.pyplot as plt\n",
    "def make_data(A,b,random_seed=567):\n",
    "    np.random.seed(random_seed)\n",
    "    x = np.random.randn(100,20)\n",
    "    data = A*x+b  \n",
    "    return data\n",
    "b = np.random.randint(0,10,20)\n",
    "my_data = make_data(A=np.arange(20),b=b)\n",
    "plt.scatter(np.arange(20),np.mean(my_data,axis=0))\n",
    "plt.scatter(np.arange(20),b,marker='+')\n",
    "\n",
    "np.std(my_data,axis=0)"
   ]
  },
  {
   "cell_type": "code",
   "execution_count": 54,
   "metadata": {},
   "outputs": [
    {
     "data": {
      "text/plain": [
       "array([ 0.        ,  1.00738712,  2.05902246,  3.08264841,  4.0948695 ,\n",
       "        4.87825294,  6.0252545 ,  7.06718496,  8.03888772,  9.13289053,\n",
       "        9.93233584, 10.82963406, 12.27321103, 13.32973208, 14.05737573,\n",
       "       14.50569271, 16.4724028 , 16.63455303, 17.57564314, 18.01977782])"
      ]
     },
     "execution_count": 54,
     "metadata": {},
     "output_type": "execute_result"
    }
   ],
   "source": [
    "\n"
   ]
  },
  {
   "cell_type": "code",
   "execution_count": null,
   "metadata": {},
   "outputs": [],
   "source": []
  }
 ],
 "metadata": {
  "kernelspec": {
   "display_name": "fwdmodel",
   "language": "python",
   "name": "fwdmodel"
  },
  "language_info": {
   "codemirror_mode": {
    "name": "ipython",
    "version": 3
   },
   "file_extension": ".py",
   "mimetype": "text/x-python",
   "name": "python",
   "nbconvert_exporter": "python",
   "pygments_lexer": "ipython3",
   "version": "3.7.7"
  }
 },
 "nbformat": 4,
 "nbformat_minor": 4
}
