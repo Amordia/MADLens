{
 "cells": [
  {
   "cell_type": "markdown",
   "metadata": {},
   "source": [
    "### some useful functions to figure out which settings to use"
   ]
  },
  {
   "cell_type": "code",
   "execution_count": 1,
   "metadata": {},
   "outputs": [],
   "source": [
    "from nbodykit.cosmology import Planck15\n",
    "import numpy as np"
   ]
  },
  {
   "cell_type": "code",
   "execution_count": 15,
   "metadata": {},
   "outputs": [],
   "source": [
    "def a2z(a):\n",
    "    return 1./a-1\n",
    "\n",
    "def z2a(z):\n",
    "    return 1./(1.+z)"
   ]
  },
  {
   "cell_type": "code",
   "execution_count": 16,
   "metadata": {},
   "outputs": [],
   "source": [
    "def get_physical_width(cosmology,z_source,fov):\n",
    "    \"\"\"returns physical extent (comoving angular diameter distance) in Mpc/h \n",
    "    of a field of view (fov,in degrees) \n",
    "    at source redhsift z_source for a specific cosmology\"\"\"\n",
    "    chi_source = cosmology.angular_diameter_distance(z_source)\n",
    "    fov_rad    = fov/180.*np.pi\n",
    "    width      = fov_rad*chi_source\n",
    "    \n",
    "    return width*(1+z_source)"
   ]
  },
  {
   "cell_type": "code",
   "execution_count": 17,
   "metadata": {},
   "outputs": [],
   "source": [
    "def get_volume(z_source,FOV, cosmo):\n",
    "    \"\"\"\n",
    "    returns the comoving volume of the lightcone in [Mpc/h]^3\n",
    "    z_source: highest source redshift\n",
    "    FOV: field of view in degrees (2D, in degrees)\n",
    "    \"\"\"\n",
    "    h = cosmo.comoving_distance(z_source)\n",
    "    ls= [deg/180.*np.pi*h for deg in FOV]\n",
    "    V = np.prod(ls)*h/3.\n",
    "    return V"
   ]
  },
  {
   "cell_type": "code",
   "execution_count": 18,
   "metadata": {},
   "outputs": [],
   "source": [
    "def get_fov(cosmo,BoxSize,z_source):\n",
    "    \"\"\"\n",
    "    get the field of view (in degrees) for given boxsize and source redshift\n",
    "    \"\"\"\n",
    "    chi_source = cosmo.angular_diameter_distance(z_source)*(1+z_source)\n",
    "    fov        = BoxSize/chi_source/np.pi*180.\n",
    "    return fov"
   ]
  },
  {
   "cell_type": "code",
   "execution_count": 19,
   "metadata": {},
   "outputs": [],
   "source": [
    "def get_num_boxes(cosmo, boxsize, z_source):\n",
    "    \"\"\"\n",
    "    number of box repetitions up source redshift\n",
    "    \"\"\"\n",
    "    h   = cosmo.comoving_distance(z_source)\n",
    "    num = h/boxsize\n",
    "    return num"
   ]
  },
  {
   "cell_type": "code",
   "execution_count": 20,
   "metadata": {},
   "outputs": [
    {
     "name": "stdout",
     "output_type": "stream",
     "text": [
      "8.153129467821202\n",
      "5.757474418659783\n",
      "11.380591120515406\n",
      "7.027458565354294\n",
      "9.951547387808633\n",
      "5.034517004348931\n"
     ]
    }
   ],
   "source": [
    "cosmo_fid  = Planck15\n",
    "cosmo_min  = Planck15.match(Omega0_m=0.05)\n",
    "cosmo_max  = Planck15.match(Omega0_m=0.95)\n",
    "boxsize    = 512\n",
    "z_source   = 2.\n",
    "\n",
    "print(get_fov(cosmo_fid,boxsize,z_source))\n",
    "print(get_fov(cosmo_min,boxsize,z_source))\n",
    "print(get_fov(cosmo_max,boxsize,z_source))\n",
    "\n",
    "print(get_num_boxes(cosmo_fid,boxsize,z_source))\n",
    "print(get_num_boxes(cosmo_min,boxsize,z_source))\n",
    "print(get_num_boxes(cosmo_max,boxsize,z_source))"
   ]
  },
  {
   "cell_type": "code",
   "execution_count": 21,
   "metadata": {},
   "outputs": [
    {
     "name": "stdout",
     "output_type": "stream",
     "text": [
      "4.076564733910601\n",
      "2.8787372093298913\n",
      "5.690295560257703\n",
      "14.054917130708589\n",
      "19.903094775617266\n",
      "10.069034008697862\n"
     ]
    }
   ],
   "source": [
    "cosmo_fid  = Planck15\n",
    "cosmo_min  = Planck15.match(Omega0_m=0.05)\n",
    "cosmo_max  = Planck15.match(Omega0_m=0.95)\n",
    "boxsize    = 256\n",
    "z_source   = 2.\n",
    "\n",
    "print(get_fov(cosmo_fid,boxsize,z_source))\n",
    "print(get_fov(cosmo_min,boxsize,z_source))\n",
    "print(get_fov(cosmo_max,boxsize,z_source))\n",
    "\n",
    "print(get_num_boxes(cosmo_fid,boxsize,z_source))\n",
    "print(get_num_boxes(cosmo_min,boxsize,z_source))\n",
    "print(get_num_boxes(cosmo_max,boxsize,z_source))"
   ]
  },
  {
   "cell_type": "code",
   "execution_count": 7,
   "metadata": {},
   "outputs": [
    {
     "data": {
      "text/plain": [
       "0.3089037414433296"
      ]
     },
     "execution_count": 7,
     "metadata": {},
     "output_type": "execute_result"
    }
   ],
   "source": [
    "Planck15.Omega_m(0.)"
   ]
  },
  {
   "cell_type": "code",
   "execution_count": 6,
   "metadata": {},
   "outputs": [
    {
     "data": {
      "text/plain": [
       "0.8158116144901115"
      ]
     },
     "execution_count": 6,
     "metadata": {},
     "output_type": "execute_result"
    }
   ],
   "source": [
    "Planck15.sigma8"
   ]
  },
  {
   "cell_type": "code",
   "execution_count": null,
   "metadata": {},
   "outputs": [],
   "source": []
  }
 ],
 "metadata": {
  "kernelspec": {
   "display_name": "NERSC BCCP",
   "language": "python",
   "name": "bccp"
  },
  "language_info": {
   "codemirror_mode": {
    "name": "ipython",
    "version": 3
   },
   "file_extension": ".py",
   "mimetype": "text/x-python",
   "name": "python",
   "nbconvert_exporter": "python",
   "pygments_lexer": "ipython3",
   "version": "3.6.7"
  }
 },
 "nbformat": 4,
 "nbformat_minor": 4
}
