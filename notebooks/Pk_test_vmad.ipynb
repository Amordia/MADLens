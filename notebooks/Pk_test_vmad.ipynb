{
 "cells": [
  {
   "cell_type": "code",
   "execution_count": 2,
   "metadata": {},
   "outputs": [],
   "source": [
    "from nbodykit.cosmology import Planck15\n",
    "import numpy as np\n",
    "import matplotlib.pyplot as plt"
   ]
  },
  {
   "cell_type": "code",
   "execution_count": 31,
   "metadata": {},
   "outputs": [],
   "source": [
    "from vmad import Builder, autooperator, operator\n",
    "import numpy as np\n",
    "from vmad.core.stdlib.operators import mul, div, add, sub\n",
    "from vmad.core.stdlib.operators import pow as power\n",
    "from vmad.lib.unary import log, sinc, exp\n",
    "from vmad.lib.linalg import reshape, broadcast_to\n",
    "from nbodykit import cosmology\n",
    "\n",
    "\n",
    "def normalize(r,Omega0_m, transfer='EH', kmin=1e-5, kmax=1e1):\n",
    "    \"\"\"\n",
    "    The mass fluctuation within a sphere of radius ``r``, in\n",
    "    units of :math:`h^{-1} Mpc` at ``redshift``.\n",
    "    This returns :math:`\\sigma`, where\n",
    "    .. math::\n",
    "        \\sigma^2 = \\int_0^\\infty \\frac{k^3 P(k,z)}{2\\pi^2} W^2_T(kr) \\frac{dk}{k},\n",
    "    where :math:`W_T(x) = 3/x^3 (\\mathrm{sin}x - x\\mathrm{cos}x)` is\n",
    "    a top-hat filter in Fourier space.\n",
    "    The value of this function with ``r=8`` returns\n",
    "    :attr:`sigma8`, within numerical precision.\n",
    "    Parameters\n",
    "    ----------\n",
    "    r : float, array_like\n",
    "        the scale to compute the mass fluctation over, in units of\n",
    "        :math:`h^{-1} Mpc`\n",
    "    kmin : float, optional\n",
    "        the lower bound for the integral, in units of :math:`\\mathrm{Mpc/h}`\n",
    "    kmax : float, optional\n",
    "        the upper bound for the integral, in units of :math:`\\mathrm{Mpc/h}`\n",
    "    \"\"\"\n",
    "    import mcfit\n",
    "    from scipy.interpolate import InterpolatedUnivariateSpline as spline\n",
    "    cosmo = cosmology.Planck15.match(Omega0_m=Omega0_m)\n",
    "    k = np.logspace(np.log10(kmin), np.log10(kmax), 1024)\n",
    "    if transfer=='EH':\n",
    "        p= get_Pk_EH.build(cosmo=cosmo, z=0, k=k)\n",
    "    elif transfer=='NWEH':\n",
    "        p= get_Pk_NWEH.build(cosmo=cosmo, z=0, k=k)\n",
    "    else:\n",
    "        raise ValueError('transfer must be EH or NWEH')\n",
    "    Pk= p.compute(init = dict(Omega0_m=Omega0_m),vout=['Pk'], return_tape=False)\n",
    "    R, sigmasq = mcfit.TophatVar(k, lowring=True)(Pk, extrap=True)\n",
    "\n",
    "    return spline(R, sigmasq)(r)**.5\n",
    "\n",
    "@autooperator('omega_z, omega_lambda->growth')\n",
    "def grow(omega_z, omega_lambda, z):\n",
    "    pre_fac = mul((1+z)**-1, div(mul(5, omega_z), 2))\n",
    "    inside = power(\n",
    "        add(sub(power(omega_z, 4/7), omega_lambda),\n",
    "            mul(add(1, div(omega_z,2)),\n",
    "                add(1, div(omega_lambda,70)))),\n",
    "        -1)\n",
    "    return dict(growth=mul(pre_fac, inside))\n",
    "\n",
    "@autooperator('omega0_m->omega_z')\n",
    "def get_omega_z(omega0_m, z):\n",
    "    omega0_l = sub(1, omega0_m)\n",
    "    num      = mul(omega0_m, (1+z)**3)\n",
    "    denom    = omega0_l+ num\n",
    "    return dict(omega_z = div(num, denom))\n",
    "\n",
    "@autooperator('omega0_m->omega_lambda')\n",
    "def get_omega_lambda(omega0_m, z):\n",
    "    omega0_l = sub(1, omega0_m)\n",
    "    denom = add(omega0_l, mul(omega0_m, (1+z)**3))\n",
    "    return dict(omega_lambda = div(omega0_l, denom))\n",
    "\n",
    "@autooperator('Omega0_m->Pk')\n",
    "def get_Pk_NWEH(Omega0_m, cosmo, z, k):\n",
    "\n",
    "    Omega0_m = broadcast_to(Omega0_m, np.shape(k))\n",
    "    Obh2 = cosmo.Omega0_b * cosmo.h**2\n",
    "    Omh2 = mul(Omega0_m, power(cosmo.h, 2))\n",
    "    f_baryon = div(cosmo.Omega0_b, Omega0_m)\n",
    "    theta_cmb = cosmo.Tcmb0 / 2.7\n",
    "\n",
    "    k_eq = mul(mul(0.0746, Omh2), power(theta_cmb,-2)) # units of 1/Mpc\n",
    "    \n",
    "    sound_horizon = div(mul(mul(cosmo.h, 44.5), log(div(9.83, Omh2))), np.sqrt(1 + 10 * Obh2** 0.75)) # in Mpc/h\n",
    "\n",
    "\n",
    "    alpha_gamma = add(sub(1, mul(mul(0.328, log(mul(431,Omh2))), f_baryon)),\\\n",
    "                      mul(mul(0.38, log(mul(22.3,Omh2))), power(f_baryon, 2)))\n",
    "    k = k * cosmo.h  # in 1/Mpc now\n",
    "    ks = div(mul(k,sound_horizon), cosmo.h)    # units h^-2\n",
    "    \n",
    "    q = div(k, mul(13.41, k_eq))        # units Mpc^-2\n",
    "    gamma_eff = mul(Omh2, add(alpha_gamma, div(sub(1,alpha_gamma), add(1, power(mul(0.43,ks),4))))) # Unitless?\n",
    "    q_eff = div(mul(q,Omh2), gamma_eff)  # h^2 Mpc^-2\n",
    "\n",
    "    L0 = log(add(2*np.e, mul(1.8, q_eff)))\n",
    "    C0 = add(14.2, div(731.0, add(1, mul(62.5, q_eff))))\n",
    "\n",
    "    T = div(L0, add(L0, mul(C0, power(q_eff,2))))\n",
    "\n",
    "    ### ADD GROWTH###\n",
    "    omega_zs = get_omega_z(Omega0_m, z)\n",
    "    omega_lambdas = get_omega_lambda(Omega0_m, z)\n",
    "    growth_z = grow(omega_zs, omega_lambdas, z)\n",
    "    omega_zs = get_omega_z(Omega0_m, 0)\n",
    "    omega_lambdas = get_omega_lambda(Omega0_m, 0)\n",
    "    growth_0 = grow(omega_zs, omega_lambdas, 0)\n",
    "    factor = power(div(k,cosmo.h),cosmo.n_s)\n",
    "\n",
    "    Pk = mul(mul(power(T, 2), div(power(growth_z, 2),power(growth_0,2))),factor)\n",
    "    return dict(Pk=Pk)\n",
    "\n",
    "@autooperator('a,b,q->c')\n",
    "def f(a,b,q):\n",
    "     return dict(c = div(a, add(a ,mul( b, power(q,2)))))\n",
    "\n",
    "    \n",
    "\n",
    "@autooperator('Omega0_m->Pk')\n",
    "def get_Pk_NWEH(Omega0_m, cosmo, z, k):\n",
    "\n",
    "    Omega0_m = broadcast_to(Omega0_m, np.shape(k))\n",
    "    Obh2 = cosmo.Omega0_b * cosmo.h**2\n",
    "    Omh2 = mul(Omega0_m, power(cosmo.h, 2))\n",
    "    f_baryon = div(cosmo.Omega0_b, Omega0_m)\n",
    "    theta_cmb = cosmo.Tcmb0 / 2.7\n",
    "\n",
    "    k_eq = mul(mul(0.0746, Omh2), power(theta_cmb,-2)) # units of 1/Mpc\n",
    "    \n",
    "    sound_horizon = div(mul(mul(cosmo.h, 44.5), log(div(9.83, Omh2))), np.sqrt(1 + 10 * Obh2** 0.75)) # in Mpc/h\n",
    "\n",
    "\n",
    "    alpha_gamma = add(sub(1, mul(mul(0.328, log(mul(431,Omh2))), f_baryon)),\\\n",
    "                      mul(mul(0.38, log(mul(22.3,Omh2))), power(f_baryon, 2)))\n",
    "    k = k * cosmo.h  # in 1/Mpc now\n",
    "    ks = div(mul(k,sound_horizon), cosmo.h)    # units h^-2\n",
    "    \n",
    "    q = div(k, mul(13.41, k_eq))        # units Mpc^-2\n",
    "    gamma_eff = mul(Omh2, add(alpha_gamma, div(sub(1,alpha_gamma), add(1, power(mul(0.43,ks),4))))) # Unitless?\n",
    "    q_eff = div(mul(q,Omh2), gamma_eff)  # h^2 Mpc^-2\n",
    "\n",
    "    L0 = log(add(2*np.e, mul(1.8, q_eff)))\n",
    "    C0 = add(14.2, div(731.0, add(1, mul(62.5, q_eff))))\n",
    "\n",
    "    T = div(L0, add(L0, mul(C0, power(q_eff,2))))\n",
    "\n",
    "    ### ADD GROWTH###\n",
    "    omega_zs = get_omega_z(Omega0_m, z)\n",
    "    omega_lambdas = get_omega_lambda(Omega0_m, z)\n",
    "    growth_z = grow(omega_zs, omega_lambdas, z)\n",
    "    omega_zs = get_omega_z(Omega0_m, 0)\n",
    "    omega_lambdas = get_omega_lambda(Omega0_m, 0)\n",
    "    growth_0 = grow(omega_zs, omega_lambdas, 0)\n",
    "    factor = power(div(k,cosmo.h),cosmo.n_s)\n",
    "\n",
    "    Pk = mul(mul(power(T, 2), div(power(growth_z, 2),power(growth_0,2))),factor)\n",
    "    return dict(Pk=Pk)    \n",
    "\n",
    "@autooperator('Omega0_m->Pk')\n",
    "def get_Pk_EH(Omega0_m, cosmo, z, k):\n",
    "    Omega0_m = broadcast_to(Omega0_m, np.shape(k))\n",
    "    Obh2 = mul(cosmo.Omega0_b, power(cosmo.h, 2))\n",
    "    Omh2 = mul(Omega0_m, power(cosmo.h, 2))\n",
    "    f_baryon = div(cosmo.Omega0_b, Omega0_m)\n",
    "    theta_cmb = div(cosmo.Tcmb0 , 2.7)\n",
    "\n",
    "    # z and wavenumber of equality\n",
    "    z_eq = mul(mul(2.5e4, Omh2),power(theta_cmb, -4)) # this is 1 + z\n",
    "    k_eq = mul(mul(0.0746, Omh2),power(theta_cmb ,-2)) # units of 1/Mpc\n",
    "\n",
    "    # sound horizon and k_silk\n",
    "    z_drag_b1 = mul(mul(0.313, power(Omh2, -0.419)), add(1, mul(0.607,power(Omh2, 0.674))))\n",
    "    z_drag_b2 = mul(0.238, power(Omh2,0.223))\n",
    "    z_drag    = mul(div(mul(1291, power(Omh2, 0.251)), add(1., mul(0.659, power(Omh2, 0.828)))), add(1., mul(z_drag_b1, power(Obh2, z_drag_b2))))\n",
    "\n",
    "\n",
    "\n",
    "    r_drag = div(mul(mul(mul(31.5, Obh2), power(theta_cmb, -4)), 1000.), add(1,z_drag))\n",
    "    r_eq   = div(mul(mul(mul(31.5, Obh2), power(theta_cmb, -4)), 1000.), add(1,z_eq))\n",
    "\n",
    "    sound_horizon = mul(mul(div(2., mul(3.,k_eq)),power(div(6., r_eq), .5)), \\\n",
    "                    log(div(add(power(add(1,r_drag), .5), power(add(r_drag,r_eq), .5)), add(1, power(r_eq, .5)))))\n",
    "\n",
    "    k_silk = mul(mul(mul(1.6,power( Obh2, 0.52)), power(Omh2,0.73)),add(1, power(mul(10.4,Omh2), -0.95)))\n",
    "\n",
    "    # alpha_c\n",
    "    alpha_c_a1 = mul(power(mul(46.9,Omh2),0.670 ), add(1, power(mul(32.1,Omh2), -0.532)))\n",
    "    alpha_c_a2 = mul(power(mul(12.0,Omh2), 0.424), add(1, power(mul(45.0,Omh2), -0.582)))\n",
    "    alpha_c = mul(power(alpha_c_a1, -f_baryon), power(alpha_c_a2 , power(-f_baryon,3)))\n",
    "\n",
    "    # beta_c\n",
    "    beta_c_b1 = div(0.944, add(1, power(mul(458,Omh2), -0.708)))\n",
    "    beta_c_b2 = mul(0.395, power(Omh2, -0.0266))\n",
    "    beta_c = div(1., add(1 , sub(mul(beta_c_b1, power(sub(1,f_baryon), beta_c_b2)), 1)))\n",
    "\n",
    "    y = div(z_eq, add(1, z_drag))\n",
    "    alpha_b_G = mul(y, \\\n",
    "                    add(mul(-6.,power(add(1,y), .5)),\n",
    "                        mul(add(2.,mul(3.,y)),\n",
    "                            log(div(add(power(add(1,y), .5),1),sub(power(add(1,y), .5),1))))))\n",
    "    alpha_b = mul(mul(mul(2.07,  k_eq), sound_horizon), mul(power(add(1,r_drag),-0.75), alpha_b_G))\n",
    "\n",
    "    beta_node = mul(8.41, power(Omh2, 0.435))\n",
    "    beta_b    = add(add(0.5, f_baryon), mul(sub(3., mul(2.,f_baryon)),power( add(power(mul(17.2,Omh2), 2), 1 ), .5)))\n",
    "\n",
    "\n",
    "    k = k * cosmo.h # now in 1/Mpc\n",
    "\n",
    "    q = div(k, mul(13.41,k_eq))\n",
    "    ks = mul(k,sound_horizon)\n",
    "\n",
    "    T_c_ln_beta   = log(add(np.e, mul(mul(1.8,beta_c),q)))\n",
    "    T_c_ln_nobeta = log(add(np.e, mul(1.8,q)));\n",
    "\n",
    "    T_c_C_alpha   = add(div(14.2, alpha_c), div(386., add(1, mul(69.9,power( q, 1.08)))))\n",
    "\n",
    "\n",
    "    T_c_C_noalpha = add(14.2,  div(386., add(1, mul(69.9, power(q, 1.08)))))\n",
    "\n",
    "\n",
    "    T_c_f = div(1., add(1.,power(div(ks,5.4), 4)))\n",
    "\n",
    "\n",
    "    T_c = add(mul(T_c_f, f(T_c_ln_beta, T_c_C_noalpha, q)), mul(sub(1,T_c_f), f(T_c_ln_beta, T_c_C_alpha,q)))\n",
    "\n",
    "\n",
    "    s_tilde = mul(sound_horizon, power(add(1, power(div(beta_node,ks),3)), (-1./3.)))\n",
    "\n",
    "\n",
    "    ks_tilde = mul(k,s_tilde)\n",
    "\n",
    "\n",
    "    T_b_T0 = f(T_c_ln_nobeta, T_c_C_noalpha, q)\n",
    "\n",
    "\n",
    "    T_b_1 = div(T_b_T0, add(1, power(div(ks,5.2),2 )))\n",
    "\n",
    "\n",
    "    T_b_2 = mul(div(alpha_b, add(1, power(div(beta_b,ks),3 ))), exp(-power(div(k,k_silk), 1.4)))\n",
    "\n",
    "\n",
    "    T_b = mul(sinc(div(ks_tilde,np.pi)), add(T_b_1, T_b_2))\n",
    "\n",
    "    T = add(mul(f_baryon,T_b), mul(sub(1,f_baryon),T_c));\n",
    "    ### ADD GROWTH###\n",
    "    omega_zs = get_omega_z(Omega0_m, z)\n",
    "    omega_lambdas = get_omega_lambda(Omega0_m, z)\n",
    "    growth_z = grow(omega_zs, omega_lambdas, z)\n",
    "    omega_zs = get_omega_z(Omega0_m, 0)\n",
    "    omega_lambdas = get_omega_lambda(Omega0_m, 0)\n",
    "    growth_0 = grow(omega_zs, omega_lambdas, 0)\n",
    "\n",
    "    factor = (k/cosmo.h)**cosmo.n_s\n",
    "\n",
    "    Pk =mul(mul(power(T, 2), div(power(growth_z, 2),power(growth_0,2))),factor)\n",
    "    return dict(Pk=Pk)"
   ]
  },
  {
   "cell_type": "code",
   "execution_count": 45,
   "metadata": {},
   "outputs": [],
   "source": [
    "\n",
    "\n",
    "norm = normalize(r=8, Omega0_m=Planck15.Omega0_m,transfer='EH')\n",
    "norm = (Planck15.sigma8/norm)**2\n",
    "\n",
    "#transfer =  get_Pk_EH(Om0, cosmo=self.cosmo, z=0, k=self.k_s)"
   ]
  },
  {
   "cell_type": "code",
   "execution_count": 46,
   "metadata": {},
   "outputs": [],
   "source": [
    "ks = np.logspace(-5,1,500)\n",
    "p  = get_Pk_EH.build(cosmo=Planck15, z=0, k=ks)\n",
    "Pk = p.compute(init = dict(Omega0_m=Planck15.Omega0_m),vout=['Pk'], return_tape=False)[0]*norm"
   ]
  },
  {
   "cell_type": "code",
   "execution_count": null,
   "metadata": {},
   "outputs": [],
   "source": []
  },
  {
   "cell_type": "code",
   "execution_count": 47,
   "metadata": {},
   "outputs": [],
   "source": [
    "Pk_ = Planck15.get_pk(ks,z=0)"
   ]
  },
  {
   "cell_type": "code",
   "execution_count": 48,
   "metadata": {},
   "outputs": [
    {
     "data": {
      "text/plain": [
       "[<matplotlib.lines.Line2D at 0x2aaae5ffbb10>]"
      ]
     },
     "execution_count": 48,
     "metadata": {},
     "output_type": "execute_result"
    },
    {
     "data": {
      "image/png": "[encoded data removed]",
      "text/plain": [
       "<Figure size 432x288 with 1 Axes>"
      ]
     },
     "metadata": {
      "needs_background": "light"
     },
     "output_type": "display_data"
    }
   ],
   "source": [
    "plt.loglog(ks, Pk)\n",
    "plt.loglog(ks, Pk_)"
   ]
  },
  {
   "cell_type": "code",
   "execution_count": 49,
   "metadata": {},
   "outputs": [
    {
     "data": {
      "text/plain": [
       "[<matplotlib.lines.Line2D at 0x2aaae6654290>]"
      ]
     },
     "execution_count": 49,
     "metadata": {},
     "output_type": "execute_result"
    },
    {
     "data": {
      "image/png": "[encoded data removed]",
      "text/plain": [
       "<Figure size 432x288 with 1 Axes>"
      ]
     },
     "metadata": {
      "needs_background": "light"
     },
     "output_type": "display_data"
    }
   ],
   "source": [
    "plt.semilogx(ks,(Pk-Pk_)/Pk_)"
   ]
  },
  {
   "cell_type": "code",
   "execution_count": 19,
   "metadata": {},
   "outputs": [
    {
     "data": {
      "text/plain": [
       "(0.30890374144332966, 0.2589, 0.001403884157638176, 0.0486, 0.8158116144901115)"
      ]
     },
     "execution_count": 19,
     "metadata": {},
     "output_type": "execute_result"
    }
   ],
   "source": [
    "Planck15.Omega0_m, Planck15.Omega0_cdm, Planck15.Omega0_ncdm[0], Planck15.Omega0_b, Planck15.sigma8"
   ]
  },
  {
   "cell_type": "code",
   "execution_count": 24,
   "metadata": {},
   "outputs": [],
   "source": [
    "Planck15_=Planck15.match(Omega0_m=Planck15.Omega0_m+1e-2)\n",
    "Planck15_s = Planck15_.match(sigma8=Planck15.sigma8)"
   ]
  },
  {
   "cell_type": "code",
   "execution_count": 25,
   "metadata": {},
   "outputs": [
    {
     "data": {
      "text/plain": [
       "(0.3189037414433297,\n",
       " 0.267319512195122,\n",
       " 0.001403884157638176,\n",
       " 0.050180487804878056,\n",
       " 0.8277773701476765)"
      ]
     },
     "execution_count": 25,
     "metadata": {},
     "output_type": "execute_result"
    }
   ],
   "source": [
    "Planck15_.Omega0_m, Planck15_.Omega0_cdm, Planck15_.Omega0_ncdm[0], Planck15_.Omega0_b,Planck15_.sigma8"
   ]
  },
  {
   "cell_type": "code",
   "execution_count": 26,
   "metadata": {},
   "outputs": [
    {
     "data": {
      "text/plain": [
       "(0.3189037414433297,\n",
       " 0.267319512195122,\n",
       " 0.001403884157638176,\n",
       " 0.050180487804878056,\n",
       " 0.8158116144901117)"
      ]
     },
     "execution_count": 26,
     "metadata": {},
     "output_type": "execute_result"
    }
   ],
   "source": [
    "Planck15_s.Omega0_m, Planck15_s.Omega0_cdm, Planck15_s.Omega0_ncdm[0], Planck15_s.Omega0_b,Planck15_s.sigma8"
   ]
  },
  {
   "cell_type": "code",
   "execution_count": 16,
   "metadata": {},
   "outputs": [
    {
     "data": {
      "text/plain": [
       "(0.8382451425162273, 0.8381251673751476)"
      ]
     },
     "execution_count": 16,
     "metadata": {},
     "output_type": "execute_result"
    }
   ],
   "source": [
    "Planck15_.Omega0_cdm/Planck15_.Omega0_m, Planck15.Omega0_cdm/Planck15.Omega0_m"
   ]
  },
  {
   "cell_type": "code",
   "execution_count": 17,
   "metadata": {},
   "outputs": [
    {
     "data": {
      "text/plain": [
       "(array([0.00440222]), array([0.00454473]))"
      ]
     },
     "execution_count": 17,
     "metadata": {},
     "output_type": "execute_result"
    }
   ],
   "source": [
    "Planck15_.Omega0_ncdm/Planck15_.Omega0_m, Planck15.Omega0_ncdm/Planck15.Omega0_m"
   ]
  },
  {
   "cell_type": "code",
   "execution_count": 18,
   "metadata": {},
   "outputs": [
    {
     "data": {
      "text/plain": [
       "(0.15735308584893257, 0.1573305644435387)"
      ]
     },
     "execution_count": 18,
     "metadata": {},
     "output_type": "execute_result"
    }
   ],
   "source": [
    "Planck15_.Omega0_b/Planck15_.Omega0_m, Planck15.Omega0_b/Planck15.Omega0_m"
   ]
  },
  {
   "cell_type": "code",
   "execution_count": 28,
   "metadata": {},
   "outputs": [],
   "source": [
    "Planck15_=Planck15.clone(Omega0_cdm=Planck15.Omega0_cdm+1e-2)\n",
    "Planck15_s = Planck15_.match(sigma8=Planck15.sigma8)"
   ]
  },
  {
   "cell_type": "code",
   "execution_count": 31,
   "metadata": {},
   "outputs": [
    {
     "data": {
      "text/plain": [
       "(0.31890374144332967,\n",
       " 0.26890000000000003,\n",
       " 0.001403884157638176,\n",
       " 0.0486,\n",
       " 0.815811614490111,\n",
       " 0.8356492364234914)"
      ]
     },
     "execution_count": 31,
     "metadata": {},
     "output_type": "execute_result"
    }
   ],
   "source": [
    "Planck15_s.Omega0_m, Planck15_s.Omega0_cdm, Planck15_s.Omega0_ncdm[0], Planck15_s.Omega0_b,Planck15_s.sigma8,Planck15_.sigma8"
   ]
  },
  {
   "cell_type": "code",
   "execution_count": null,
   "metadata": {},
   "outputs": [],
   "source": []
  }
 ],
 "metadata": {
  "kernelspec": {
   "display_name": "fwdmodel",
   "language": "python",
   "name": "fwdmodel"
  },
  "language_info": {
   "codemirror_mode": {
    "name": "ipython",
    "version": 3
   },
   "file_extension": ".py",
   "mimetype": "text/x-python",
   "name": "python",
   "nbconvert_exporter": "python",
   "pygments_lexer": "ipython3",
   "version": "3.7.7"
  }
 },
 "nbformat": 4,
 "nbformat_minor": 4
}
