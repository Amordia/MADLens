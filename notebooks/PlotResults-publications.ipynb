{
 "cells": [
  {
   "cell_type": "markdown",
   "metadata": {},
   "source": [
    "# PlotResults.ipynb\n",
    "### example notebook demonstrating how to plot and inspect simulation outputs"
   ]
  },
  {
   "cell_type": "code",
   "execution_count": 9,
   "metadata": {},
   "outputs": [],
   "source": [
    "import os\n",
    "import numpy as np\n",
    "import scipy\n",
    "import matplotlib.pyplot as plt\n",
    "import matplotlib as mpl\n",
    "plt.style.use('seaborn-notebook')"
   ]
  },
  {
   "cell_type": "code",
   "execution_count": 10,
   "metadata": {},
   "outputs": [],
   "source": [
    "plt.rcParams.update({'xtick.labelsize':13,'ytick.labelsize':13})"
   ]
  },
  {
   "cell_type": "code",
   "execution_count": 11,
   "metadata": {},
   "outputs": [],
   "source": [
    "#plt.rcParams.keys()\n",
    "PLOTPATH ='/global/homes/v/vboehm/codes/MADLens/figures' "
   ]
  },
  {
   "cell_type": "code",
   "execution_count": 12,
   "metadata": {},
   "outputs": [],
   "source": [
    "from MADLens.util import *"
   ]
  },
  {
   "cell_type": "markdown",
   "metadata": {},
   "source": [
    "### load TNG power spectra and interpolate "
   ]
  },
  {
   "cell_type": "code",
   "execution_count": 13,
   "metadata": {},
   "outputs": [
    {
     "name": "stderr",
     "output_type": "stream",
     "text": [
      "/global/homes/v/vboehm/.conda/envs/fwdmodel/lib/python3.7/site-packages/ipykernel_launcher.py:3: DeprecationWarning: The window argument is deprecated. Use `resampler=` instead\n",
      "  This is separate from the ipykernel package so we can avoid doing imports until\n"
     ]
    },
    {
     "name": "stdout",
     "output_type": "stream",
     "text": [
      "7.830950132458313\n"
     ]
    },
    {
     "data": {
      "image/png": "[encoded data removed]",
      "text/plain": [
       "<Figure size 576x396 with 1 Axes>"
      ]
     },
     "metadata": {
      "needs_background": "light"
     },
     "output_type": "display_data"
    }
   ],
   "source": [
    "TNG_PATH = '/global/cscratch1/sd/vboehm/TNG_power_spectra/PS_TNG_1'\n",
    "cat = ArrayCatalog({'Position' : np.asarray([[1.,1.,1.]])}, BoxSize=[205., 205., 205.])\n",
    "mesh = cat.to_mesh(Nmesh=512, interlaced=True, compensated=True, window='cic')\n",
    "r = FFTPower(mesh, mode = '1d')\n",
    "Fpower = r.power['power'].real[1:]\n",
    "k = r.power['k'][1:]\n",
    "\n",
    "TNG_pks = []\n",
    "TNG_zs  = []\n",
    "for pw in os.listdir(TNG_PATH):\n",
    "    if 'Dark' in pw:\n",
    "        redshift = pw[15:19]\n",
    "        TNG_pks.append(np.loadtxt(os.path.join(TNG_PATH,pw)))\n",
    "        TNG_zs.append(redshift)\n",
    "        \n",
    "TNG_zs  = np.asarray(TNG_zs, dtype=float)\n",
    "index   = np.argsort(TNG_zs)\n",
    "TNG_pks = np.asarray(TNG_pks, dtype=float)[index]\n",
    "TNG_zs  = TNG_zs[index]\n",
    "\n",
    "TNG_shotnoise = 0.004410944\n",
    "TNG_Nyquist   = max(k)\n",
    "print(max(k))\n",
    "\n",
    "interp = scipy.interpolate.RectBivariateSpline(k, TNG_zs, TNG_pks.T[:len(k), :]-TNG_shotnoise)\n",
    "\n",
    "def interp_TNG(k,z):\n",
    "    k = np.asarray(k)\n",
    "    if k.ndim==0:\n",
    "        if k<TNG_Nyquist:\n",
    "            result = interp(k,z)\n",
    "        else:\n",
    "            result = interp(TNG_Nyquist,z)*TNG_Nyquist**2*k**(-2)\n",
    "    else:\n",
    "        index1 = np.where(k<=TNG_Nyquist)\n",
    "        index2 = np.where(k>TNG_Nyquist)\n",
    "        result = np.zeros(k.shape)\n",
    "        result[index1]= np.squeeze(interp(k[index1],z))\n",
    "        result[index2]= interp(TNG_Nyquist,z)*TNG_Nyquist**2*k[index2]**(-2)\n",
    "    \n",
    "    return np.squeeze(result)\n",
    "\n",
    "# TNG is systematically low at low k\n",
    "cosmo = Planck15.clone(P_k_max=50, perturb_sampling_stepsize=0.01,nonlinear=True)\n",
    "plt.semilogx(k,(interp_TNG(k,0)-cosmo.get_pk(k,0.))/cosmo.get_pk(k,0.))\n",
    "plt.grid()\n",
    "plt.show()"
   ]
  },
  {
   "cell_type": "markdown",
   "metadata": {},
   "source": [
    "### load halofit sensitivity analysis"
   ]
  },
  {
   "cell_type": "code",
   "execution_count": 14,
   "metadata": {},
   "outputs": [],
   "source": [
    "out = np.load(os.path.join(PLOTPATH,'boosts-3.npz'))"
   ]
  },
  {
   "cell_type": "code",
   "execution_count": 15,
   "metadata": {},
   "outputs": [],
   "source": [
    "from scipy.interpolate import interp1d\n",
    "DeltaCL = interp1d(np.logspace(0,4,1000),(out['upper']-out['lower'])/2)"
   ]
  },
  {
   "cell_type": "code",
   "execution_count": 16,
   "metadata": {},
   "outputs": [
    {
     "ename": "NameError",
     "evalue": "name 'runs' is not defined",
     "output_type": "error",
     "traceback": [
      "\u001b[0;31m---------------------------------------------------------------------------\u001b[0m",
      "\u001b[0;31mNameError\u001b[0m                                 Traceback (most recent call last)",
      "\u001b[0;32m<ipython-input-16-96610a9fc715>\u001b[0m in \u001b[0;36m<module>\u001b[0;34m\u001b[0m\n\u001b[0;32m----> 1\u001b[0;31m \u001b[0myt\u001b[0m   \u001b[0;34m=\u001b[0m \u001b[0mruns\u001b[0m\u001b[0;34m[\u001b[0m\u001b[0;34m'256'\u001b[0m\u001b[0;34m]\u001b[0m\u001b[0;34m[\u001b[0m\u001b[0;34m'no_interp'\u001b[0m\u001b[0;34m]\u001b[0m\u001b[0;34m[\u001b[0m\u001b[0;34m'1.0'\u001b[0m\u001b[0;34m]\u001b[0m\u001b[0;34m.\u001b[0m\u001b[0mtheory_cls\u001b[0m\u001b[0;34m[\u001b[0m\u001b[0;34m'1.0'\u001b[0m\u001b[0;34m]\u001b[0m\u001b[0;34m[\u001b[0m\u001b[0;34m'clkk'\u001b[0m\u001b[0;34m]\u001b[0m\u001b[0;34m\u001b[0m\u001b[0;34m\u001b[0m\u001b[0m\n\u001b[0m\u001b[1;32m      2\u001b[0m \u001b[0mL\u001b[0m    \u001b[0;34m=\u001b[0m \u001b[0mruns\u001b[0m\u001b[0;34m[\u001b[0m\u001b[0;34m'256'\u001b[0m\u001b[0;34m]\u001b[0m\u001b[0;34m[\u001b[0m\u001b[0;34m'no_interp'\u001b[0m\u001b[0;34m]\u001b[0m\u001b[0;34m[\u001b[0m\u001b[0;34m'1.0'\u001b[0m\u001b[0;34m]\u001b[0m\u001b[0;34m.\u001b[0m\u001b[0mtheory_cls\u001b[0m\u001b[0;34m[\u001b[0m\u001b[0;34m'1.0'\u001b[0m\u001b[0;34m]\u001b[0m\u001b[0;34m[\u001b[0m\u001b[0;34m'L'\u001b[0m\u001b[0;34m]\u001b[0m\u001b[0;34m\u001b[0m\u001b[0;34m\u001b[0m\u001b[0m\n\u001b[1;32m      3\u001b[0m \u001b[0mind\u001b[0m \u001b[0;34m=\u001b[0m \u001b[0mnp\u001b[0m\u001b[0;34m.\u001b[0m\u001b[0mwhere\u001b[0m\u001b[0;34m(\u001b[0m\u001b[0mL\u001b[0m\u001b[0;34m<\u001b[0m\u001b[0;36m1e4\u001b[0m\u001b[0;34m)\u001b[0m\u001b[0;34m\u001b[0m\u001b[0;34m\u001b[0m\u001b[0m\n",
      "\u001b[0;31mNameError\u001b[0m: name 'runs' is not defined"
     ]
    }
   ],
   "source": [
    "yt   = runs['256']['no_interp']['1.0'].theory_cls['1.0']['clkk']\n",
    "L    = runs['256']['no_interp']['1.0'].theory_cls['1.0']['L']\n",
    "ind = np.where(L<1e4)"
   ]
  },
  {
   "cell_type": "code",
   "execution_count": null,
   "metadata": {},
   "outputs": [],
   "source": [
    "plt.semilogx(L[ind],DeltaCL(L[ind])/yt[ind])"
   ]
  },
  {
   "cell_type": "markdown",
   "metadata": {},
   "source": [
    "### list all possible run files"
   ]
  },
  {
   "cell_type": "code",
   "execution_count": null,
   "metadata": {},
   "outputs": [],
   "source": [
    "# run_dir   = '../runs'\n",
    "\n",
    "# githashes = os.listdir(run_dir)\n",
    "# for githash in githashes:\n",
    "#     print(githash)\n",
    "#     path = os.path.join(run_dir,githash)\n",
    "#     print(os.listdir(path))"
   ]
  },
  {
   "cell_type": "markdown",
   "metadata": {},
   "source": [
    "### plot function"
   ]
  },
  {
   "cell_type": "code",
   "execution_count": 17,
   "metadata": {},
   "outputs": [],
   "source": [
    "def plot(z1_runs, boxsizes, interps, zss, labels, name, noise=None, other = True, other_label=[''], nplots=2, Ns=[100.], fsky =0.1, halofit_uncert=False, shape_noise=False):\n",
    "    \n",
    "    colors = ['mediumseagreen','coral','royalblue']\n",
    "    colors2= ['darkgreen', 'firebrick','darkblue']\n",
    "    if nplots == 2:\n",
    "        fig, ax = plt.subplots(nrows=2, ncols=1, sharex=True, sharey=False, squeeze=True, gridspec_kw={'height_ratios':(2,1)})\n",
    "    elif nplots ==1:\n",
    "        fig, ax = plt.subplots(nrows=1, ncols=1, sharex=True, sharey=False, squeeze=True, figsize=(8,4))\n",
    "        ax = [ax]\n",
    "    else:\n",
    "        raise ValueError('number of plots not supported')\n",
    "        \n",
    "    \n",
    "    \n",
    "    for jj, zs in enumerate(np.unique(zss)):\n",
    "        interp=interps[0]\n",
    "        boxsize=str(boxsizes[0])\n",
    "        L    = z1_runs[boxsize][interp][str(zs)].measured_cls[str(zs)]['L']\n",
    "        x    = L*(L+1)/np.pi/2.\n",
    "        yt   = z1_runs[boxsize][interp][str(zs)].theory_cls[str(zs)]['clkk']\n",
    "        if len(np.unique(zss))==1:\n",
    "            ax[0].loglog(L,x*yt, label='HaloFit', color=colors2[jj])\n",
    "        else:\n",
    "            ax[0].loglog(L,x*yt, color=colors2[jj])\n",
    "            \n",
    "        if other:\n",
    "            z    = z1_runs[boxsize][interp][str(zs)].other_cls[str(zs)]['clkk']\n",
    "            ax[0].loglog(L,x*z, label=other_label, color='gray')\n",
    "        \n",
    "    for ii, (boxsize, interp, zs, label) in enumerate(zip(boxsizes,interps,zss, labels)):\n",
    "\n",
    "        boxsize=str(boxsize)\n",
    "        print(boxsize, interp, zs, label)\n",
    "\n",
    "        L    = z1_runs[boxsize][interp][str(zs)].measured_cls[str(zs)]['L']\n",
    "        x    = L*(L+1)/np.pi/2.\n",
    "        y    = z1_runs[boxsize][interp][str(zs)].measured_cls[str(zs)]['clkk']\n",
    "        yerr = z1_runs[boxsize][interp][str(zs)].measured_cls[str(zs)]['clkk_std']/z1_runs[boxsize][interp][str(zs)].measured_cls[str(zs)]['N']\n",
    "        yt   = z1_runs[boxsize][interp][str(zs)].theory_cls[str(zs)]['clkk']\n",
    "\n",
    "        \n",
    "        if len(np.unique(zss))==1:\n",
    "            ax[0].set_title('$z_{source}$=%.1f'%zs,fontsize=16)\n",
    "        \n",
    "        if len(np.unique(zss))>1:\n",
    "            ax[0].loglog(L,x*y, label='MADLens%s, $z_s=$%.1f'%(label,zs), color=colors[ii])\n",
    "        elif len(np.unique(boxsizes))>1:\n",
    "            ax[0].loglog(L,x*y, label='MADLens%s, %s Mpc/h'%(label,boxsize), color=colors[ii])\n",
    "        else:\n",
    "            ax[0].loglog(L,x*y, label='MADLens%s'%(label), color=colors[ii])\n",
    "        \n",
    "        if halofit_uncert:\n",
    "            ind =np.where(L<=10000)\n",
    "            LL = L[ind]\n",
    "            xx = LL*(LL+1.)/2./np.pi\n",
    "            ax[0].fill_between(LL, xx*(yt[ind]-DeltaCL(LL)), xx*(yt[ind]+DeltaCL(LL)),color='gray', label='HaloFit accuracy', alpha=0.2, zorder=--1)\n",
    "        \n",
    "        if noise is not None:\n",
    "            noise_smooth = np.convolve(noise,np.ones(20)/20., mode='same')\n",
    "            ax[0].loglog(L,x*noise, label='measured shot noise', color='steelblue')\n",
    "            #ax[0].loglog(L,x*noise_smooth, color='steelblue')\n",
    "            \n",
    "        if ii ==len(zss)-1:\n",
    "            lss = ['-.','--']\n",
    "            for ls, N in enumerate(Ns):\n",
    "                Cl_shape = compute_shape_noise_power(sigma_e=0.4,n=N,fsky=fsky)\n",
    "                Cl_shape*=(np.pi/(180.*60.))**2\n",
    "                ax[0].loglog(L,x*Cl_shape, label='shape noise $n{=}$%d$\\mathrm{arcmin}^{-2}$, $f_{sky}{=}$%.1f'%(N,fsky), color='palevioletred', ls=lss[ls])  \n",
    "        \n",
    "        handles, labels = ax[0].get_legend_handles_labels()\n",
    "        \n",
    "        print(labels)\n",
    "        ratio = (y-yt)/yt\n",
    "        ratio_error = (yerr)/yt \n",
    "        if nplots>1:\n",
    "            ax[1].semilogx(L,ratio, color=colors[ii])\n",
    "            ax[1].fill_between(L,ratio-ratio_error, ratio+ratio_error,color='gray', alpha=0.2)\n",
    "            if shape_noise and ii ==len(zss)-1:\n",
    "                ax[1].fill_between(L, -Cl_shape/yt, Cl_shape/yt,color='palevioletred', alpha=0.2)\n",
    "            if halofit_uncert:\n",
    "                ind =np.where(L<=10000)\n",
    "                LL = L[ind]\n",
    "                ax[1].fill_between(LL, (-DeltaCL(LL))/yt[ind], (+DeltaCL(LL))/yt[ind],color='gray', alpha=0.2)\n",
    "                ax[1].set_ylim(-0.30,0.30)\n",
    "            else:\n",
    "                ax[1].set_ylim(-0.15,0.15)\n",
    "            ax[1].set_ylabel('relative difference')\n",
    "            ax[1].set_ylabel(r'$(C_{ML}^{\\kappa \\kappa}-C_{HF}^{\\kappa \\kappa})/C_{HF}^{\\kappa \\kappa}$',fontsize=14)\n",
    "            ax[1].set_xlabel('$L$',fontsize=16)\n",
    "        else:\n",
    "            ax[0].set_xlabel('$L$',fontsize=16)\n",
    "        \n",
    "        ax[0].set_ylabel('$L(L+1) C^{\\kappa \\kappa}_L/(2\\pi)$',fontsize=16)\n",
    "        \n",
    "        if boxsize == '512':\n",
    "            ax[0].set_xlim(100,10000)\n",
    "            ax[0].set_ylim(5e-5/2./np.pi,5e-3/2./np.pi)\n",
    "        else:\n",
    "            ax[0].set_xlim(200,10000)\n",
    "            ax[0].set_ylim(6e-5/2./np.pi,3e-2/2./np.pi)\n",
    "    if np.any(noise==None):\n",
    "        offset = len(Ns)\n",
    "    else:\n",
    "        offset = len(Ns)+2\n",
    "        \n",
    "#     first_legend = ax[0].legend(handles=handles[-offset::], loc='lower right',fontsize=14,framealpha=0.95)\n",
    "\n",
    "#     # Add the legend manually to the current Axes.\n",
    "#     #ax_ = plt.gca().add_artist(first_legend)\n",
    "#     ax[0].add_artist(first_legend) \n",
    "#     if len(np.unique(zss))>1:\n",
    "#         sec_legend = ax[0].legend(handles=handles[:-offset][::-1],fontsize=14,ncol=1,framealpha=0.99)\n",
    "#         ax[0].add_artist(sec_legend) \n",
    "#     else:\n",
    "#         sec_legend = ax[0].legend(handles=handles[:-offset][::-1],fontsize=14,ncol=1,framealpha=0.99)\n",
    "#         ax[0].add_artist(sec_legend) \n",
    "    if nplots>1:\n",
    "        ax[1].grid()\n",
    "    plt.savefig(os.path.join(PLOTPATH,'%s.pdf'%name),bbox_inches='tight')\n",
    "    plt.show()"
   ]
  },
  {
   "cell_type": "code",
   "execution_count": 18,
   "metadata": {},
   "outputs": [],
   "source": [
    "boxsizes        = [1024,512,256,128]\n",
    "interpolations  = ['interp', 'no_interp']\n",
    "specials        = ['highres', '11step']\n",
    "redshifts       = ['0.8', '1.0', '1.2']\n",
    "\n",
    "runs={}\n",
    "for boxsize in boxsizes:\n",
    "    runs[str(boxsize)]={}\n",
    "    for interp in interpolations:\n",
    "        runs[str(boxsize)][interp]={}\n",
    "        for special in specials:\n",
    "            runs[str(boxsize)][interp][special]={}"
   ]
  },
  {
   "cell_type": "code",
   "execution_count": 19,
   "metadata": {},
   "outputs": [
    {
     "data": {
      "text/plain": [
       "{'1024': {'interp': {'highres': {}, '11step': {}},\n",
       "  'no_interp': {'highres': {}, '11step': {}}},\n",
       " '512': {'interp': {'highres': {}, '11step': {}},\n",
       "  'no_interp': {'highres': {}, '11step': {}}},\n",
       " '256': {'interp': {'highres': {}, '11step': {}},\n",
       "  'no_interp': {'highres': {}, '11step': {}}},\n",
       " '128': {'interp': {'highres': {}, '11step': {}},\n",
       "  'no_interp': {'highres': {}, '11step': {}}}}"
      ]
     },
     "execution_count": 19,
     "metadata": {},
     "output_type": "execute_result"
    }
   ],
   "source": [
    "runs"
   ]
  },
  {
   "cell_type": "code",
   "execution_count": null,
   "metadata": {},
   "outputs": [
    {
     "name": "stdout",
     "output_type": "stream",
     "text": [
      "Loading run with BoxSize 256, Nmesh 256, SourceRedshift 1.00, PGD True and interpolation False.\n",
      "1 maps were produced in this run\n",
      "Measuring Cls...\n",
      "Loading map 0 of 1...\n"
     ]
    }
   ],
   "source": [
    "run = Run(githash='3bbfdfb', label='integrated_Pk', rnum=0, local_path='../')\n",
    "# this function loads all available clkk (clkk for all source redhifts) and computes their theory counterparts\n",
    "# individual clkk can be loaded with get_measured_cls/get_theory_cls\n",
    "run.fill_cl_dicts(downsample=False)\n",
    "fN = run.get_Pks()\n",
    "\n",
    "\n",
    "if run.params['interpolate']:\n",
    "    runs[str(int(run.params['BoxSize'][0]))]['interp'][str(run.params['zs_source'][0])]=run\n",
    "else:\n",
    "    runs[str(int(run.params['BoxSize'][0]))]['no_interp'][str(run.params['zs_source'][0])]=run\n",
    "    \n",
    "run.get_other_cls(run.params['zs_source'][0], other=run.interp_PGD, bink=run.measured_cls[str(run.params['zs_source'][0])]['L'])\n",
    "shotnoise = run.pm.BoxSize.prod()/(run.pm.Nmesh.prod())\n",
    "# PGD is continuous\n",
    "plt.title('PGD Pk')\n",
    "colors = plt.cm.jet(np.linspace(0,1,len(run.pks.keys())))\n",
    "for ii, zf in enumerate(sorted(run.pks.keys())):\n",
    "    plt.loglog(run.pks_PGD[zf].power['k'],abs(run.pks_PGD[zf].power['power']), label='%.2f'%float(zf),c=colors[ii])\n",
    "plt.axhline(shotnoise,label='shotnoise ?')\n",
    "plt.axvline(fN,ls=':', color='black', label='Nyquist')\n",
    "plt.legend(ncol=5,loc='lower left')\n",
    "plt.ylabel('PGD')\n",
    "plt.show()"
   ]
  },
  {
   "cell_type": "code",
   "execution_count": null,
   "metadata": {},
   "outputs": [],
   "source": [
    "run = Run(githash='a024dde', label='whitenoise', rnum=0, local_path='../')\n",
    "run.fill_cl_dicts(downsample=False)\n",
    "white_noise = run.measured_cls['1.0']['clkk']\n",
    "\n",
    "white_map = run.get_map(1.,0)\n",
    "corr_map = runs['256']['no_interp']['1.0'].get_map(1.,0)"
   ]
  },
  {
   "cell_type": "code",
   "execution_count": null,
   "metadata": {},
   "outputs": [],
   "source": [
    "cross_power = FFTPower(first=white_map,second=corr_map, mode='1d').power\n",
    "power1 = FFTPower(first=white_map,second=white_map, mode='1d').power\n",
    "power2 = FFTPower(first=corr_map,second=corr_map, mode='1d').power"
   ]
  },
  {
   "cell_type": "code",
   "execution_count": null,
   "metadata": {},
   "outputs": [],
   "source": [
    "plt.semilogx(cross_power['k'],power1['power']/10.,color='darkblue')"
   ]
  },
  {
   "cell_type": "code",
   "execution_count": null,
   "metadata": {},
   "outputs": [],
   "source": [
    "plt.semilogx(cross_power['k'],abs(cross_power['power'])/abs(np.sqrt(power1['power']*power2['power'])),color='darkblue')"
   ]
  },
  {
   "cell_type": "code",
   "execution_count": null,
   "metadata": {},
   "outputs": [],
   "source": [
    "plot(runs, boxsizes=[256], interps=['no_interp'], zss=[1.0], labels=[', no interp.'],other=False, other_label='integrated measured $P_k$', noise=white_noise, nplots=2, name='int_comp', Ns=[40],halofit_uncert=True)"
   ]
  },
  {
   "cell_type": "code",
   "execution_count": null,
   "metadata": {},
   "outputs": [],
   "source": [
    "run = Run(githash='859f754', label='transfer_test', rnum=0, local_path='../')\n",
    "# this function loads all available clkk (clkk for all source redhifts) and computes their theory counterparts\n",
    "# individual clkk can be loaded with get_measured_cls/get_theory_cls\n",
    "run.fill_cl_dicts(downsample=False)\n",
    "\n",
    "if run.params['interpolate']:\n",
    "    runs[str(int(run.params['BoxSize'][0]))]['interp'][str(run.params['zs_source'][0])]=run\n",
    "else:\n",
    "    runs[str(int(run.params['BoxSize'][0]))]['no_interp'][str(run.params['zs_source'][0])]=run"
   ]
  },
  {
   "cell_type": "code",
   "execution_count": null,
   "metadata": {},
   "outputs": [],
   "source": [
    "run = Run(githash='5913840', label='transfer_test', rnum=0, local_path='../')\n",
    "# this function loads all available clkk (clkk for all source redhifts) and computes their theory counterparts\n",
    "# individual clkk can be loaded with get_measured_cls/get_theory_cls\n",
    "run.fill_cl_dicts(downsample=False)\n",
    "\n",
    "if run.params['interpolate']:\n",
    "    runs[str(int(run.params['BoxSize'][0]))]['interp'][str(run.params['zs_source'][0])]=run\n",
    "else:\n",
    "    runs[str(int(run.params['BoxSize'][0]))]['no_interp'][str(run.params['zs_source'][0])]=run"
   ]
  },
  {
   "cell_type": "code",
   "execution_count": null,
   "metadata": {},
   "outputs": [],
   "source": [
    "run = Run(githash='a349dc9', label='transfer_test', rnum=0, local_path='../')\n",
    "# this function loads all available clkk (clkk for all source redhifts) and computes their theory counterparts\n",
    "# individual clkk can be loaded with get_measured_cls/get_theory_cls\n",
    "run.fill_cl_dicts(downsample=False)\n",
    "\n",
    "if run.params['interpolate']:\n",
    "    runs[str(int(run.params['BoxSize'][0]))]['interp'][str(run.params['zs_source'][0])]=run\n",
    "else:\n",
    "    runs[str(int(run.params['BoxSize'][0]))]['no_interp'][str(run.params['zs_source'][0])]=run"
   ]
  },
  {
   "cell_type": "code",
   "execution_count": null,
   "metadata": {},
   "outputs": [],
   "source": [
    "plot(runs, boxsizes=[512, 512, 512], interps=['interp','interp','interp'], zss=[0.8, 1.0, 1.2], other=False,labels=['','',''], name='redshift_comp', Ns=[30], shape_noise=True)"
   ]
  },
  {
   "cell_type": "code",
   "execution_count": null,
   "metadata": {},
   "outputs": [],
   "source": [
    "# run = Run(githash='49b5863', label='transfer_test', rnum=0, local_path='../')\n",
    "# # this function loads all available clkk (clkk for all source redhifts) and computes their theory counterparts\n",
    "# # individual clkk can be loaded with get_measured_cls/get_theory_cls\n",
    "# run.fill_cl_dicts(downsample=False)\n",
    "\n",
    "\n",
    "# if run.params['interpolate']:\n",
    "#     runs[str(int(run.params['BoxSize'][0]))]['interp'][str(run.params['zs_source'][0])]=run\n",
    "# else:\n",
    "#     runs[str(int(run.params['BoxSize'][0]))]['no_interp'][str(run.params['zs_source'][0])]=run\n",
    "#plot(runs, boxsizes=[512], interps=['interp'], zss=[0.5], other=False,labels=[''], name='small_redshift', Ns=[30])"
   ]
  },
  {
   "cell_type": "code",
   "execution_count": null,
   "metadata": {},
   "outputs": [],
   "source": [
    "run = Run(githash='32896b0', label='cross_test', rnum=0, local_path='../')\n",
    "# this function loads all available clkk (clkk for all source redhifts) and computes their theory counterparts\n",
    "# individual clkk can be loaded with get_measured_cls/get_theory_cls\n",
    "#run.fill_cl_dicts(downsample=False)\n",
    "map_highres = run.get_map(1.,0)\n",
    "comp_map = runs['512']['interp']['1.0'].get_map(1.,0)"
   ]
  },
  {
   "cell_type": "code",
   "execution_count": null,
   "metadata": {},
   "outputs": [],
   "source": [
    "run = Run(githash='211ec75', label='cross_test', rnum=0, local_path='../')\n",
    "map_highres_05 = run.get_map(0.5,0)\n",
    "run = Run(githash='1328c5a', label='cross_test', rnum=0, local_path='../')\n",
    "comp_map_05 = run.get_map(0.5,0)"
   ]
  },
  {
   "cell_type": "code",
   "execution_count": null,
   "metadata": {},
   "outputs": [],
   "source": [
    "cross_power = FFTPower(first=map_highres,second=comp_map, mode='1d').power\n",
    "power1 = FFTPower(first=comp_map,second=comp_map, mode='1d').power\n",
    "power2 = FFTPower(first=map_highres,second=map_highres, mode='1d').power\n",
    "\n",
    "# cross_power_05 = FFTPower(first=map_highres_05,second=comp_map_05, mode='1d').power\n",
    "# power1_05 = FFTPower(first=comp_map_05,second=comp_map_05, mode='1d').power\n",
    "# power2_05 = FFTPower(first=map_highres_05,second=map_highres_05, mode='1d').power\n",
    "\n",
    "plt.figure(figsize=(8,4))\n",
    "plt.semilogx(cross_power_05['k'],abs(cross_power_05['power'])/abs(np.sqrt(power1_05['power']*power2_05['power'])),color='royalblue', label='BoxSize=512')\n",
    "plt.semilogx(cross_power['k'],abs(cross_power['power'])/abs(np.sqrt(power1['power']*power2['power'])),color='darkblue', label='BoxSize=512')\n",
    "plt.xlabel('$L$',fontsize=16)\n",
    "plt.ylabel('Cross-Correlation',fontsize=16)\n",
    "plt.xlim(50,1e4)\n",
    "plt.ylim(0.4,1.1)\n",
    "plt.grid()\n",
    "plt.show()"
   ]
  },
  {
   "cell_type": "code",
   "execution_count": null,
   "metadata": {},
   "outputs": [],
   "source": [
    "plt.figure(figsize=(8,4))\n",
    "l= cross_power['k']\n",
    "halofit = runs['512']['interp']['1.0'].theory_cls['1.0']['clkk']\n",
    "LL = runs['512']['interp']['1.0'].theory_cls['1.0']['L']\n",
    "\n",
    "runs['512']['interp']['1.0'].fill_cl_dicts(downsample=True)\n",
    "pp = runs['512']['interp']['1.0'].measured_cls['1.0']['clkk']\n",
    "L = runs['512']['interp']['1.0'].measured_cls['1.0']['L']\n",
    "plt.loglog(LL,LL*(LL+1)/2./np.pi*halofit)\n",
    "plt.loglog(L,L*(L+1)/2./np.pi*pp)\n",
    "plt.loglog(l,l*(l+1)/2./np.pi*power2['power'])\n",
    "plt.xlim(100,1e4)\n",
    "plt.ylim(1e-5,3e-4)\n",
    "plt.grid()"
   ]
  },
  {
   "cell_type": "markdown",
   "metadata": {},
   "source": [
    "### plot results"
   ]
  },
  {
   "cell_type": "code",
   "execution_count": null,
   "metadata": {},
   "outputs": [],
   "source": [
    "plt.figure()\n",
    "plt.title('convergence histogram')\n",
    "#_ = plt.hist(mymap.value.flatten(),bins=100,density=True, log=True)\n",
    "_ = plt.hist(down_sampled_map.value.flatten(),bins=100,density=True, log=True)\n",
    "mean = np.mean(mymap)\n",
    "plt.axvline(x=mean,color='crimson', label='mean=%.1f'%mean)\n",
    "plt.legend(fontsize=14)\n",
    "plt.show()"
   ]
  },
  {
   "cell_type": "code",
   "execution_count": null,
   "metadata": {},
   "outputs": [],
   "source": [
    "down_sampled_map = downsample_map(mymap,512,z1_runs['256']['interp']['1.0'].params)\n",
    "plt.figure(figsize=(8,8))\n",
    "plt.title('convergence map')\n",
    "plt.imshow(np.log(down_sampled_map+1),cmap='viridis')\n",
    "ax = plt.gca()\n",
    "ax.axes.xaxis.set_visible(False)\n",
    "ax.axes.yaxis.set_visible(False)\n",
    "plt.colorbar()\n",
    "plt.show()"
   ]
  },
  {
   "cell_type": "code",
   "execution_count": null,
   "metadata": {},
   "outputs": [],
   "source": [
    "\n",
    "ll   = len(z1_runs['256']['interp']['1.0'].params['zs_source'])\n",
    "\n",
    "plt.figure(figsize=(ll*5,4))\n",
    "for ii, zs in enumerate(z1_runs['256']['interp']['1.0'].params['zs_source']):\n",
    "    \n",
    "    x    = z1_runs['256']['interp']['1.0'].measured_cls[str(zs)]['L']\n",
    "    y    = z1_runs['256']['interp']['1.0'].measured_cls[str(zs)]['clkk']\n",
    "    yerr = z1_runs['256']['interp']['1.0'].measured_cls[str(zs)]['clkk_std']/z1_runs['256']['interp']['1.0'].measured_cls[str(zs)]['N']\n",
    "    yt   = z1_runs['256']['interp']['1.0'].theory_cls[str(zs)]['clkk']\n",
    "    \n",
    "    ratio = (y-yt)/yt\n",
    "    ratio_error = (yerr)/yt \n",
    "    \n",
    "    fig, ax = plt.subplots(nrows=2, ncols=1, sharex=True, sharey=False, squeeze=True, gridspec_kw={'height_ratios':(4,3)})\n",
    "    ax[0].set_title('$z_s$=%.1f'%zs,fontsize=14)\n",
    "    ax[0].loglog(x,x**2*yt, label='HaloFit', color='darkblue')\n",
    "    ax[0].loglog(x,x**2*y, label='MADLens', color='mediumseagreen')\n",
    "    ax[0].fill_between(x, x**2*(y-yerr), x**2*(y+yerr),color='gray', alpha=0.2)\n",
    "    ax[0].grid()\n",
    "    \n",
    "    ax[1].semilogx(x,ratio, color='mediumseagreen')\n",
    "    ax[1].fill_between(x,ratio-ratio_error, ratio+ratio_error,color='gray', alpha=0.2)\n",
    "    ax[1].grid()\n",
    "    ax[1].set_ylim(-0.1,0.1)\n",
    "    ax[1].set_ylabel('relative difference')\n",
    "    ax[1].set_ylabel(r'$(C_{ML}^{\\kappa \\kappa}-C_{HF}^{\\kappa \\kappa})/C_{HF}^{\\kappa \\kappa}$',fontsize=14)\n",
    "\n",
    "    ax[0].legend(fontsize=14)\n",
    "    ax[0].set_ylabel('$L^2 C^{\\kappa \\kappa}_L$',fontsize=16)\n",
    "    ax[1].set_xlabel('$L$',fontsize=14)\n",
    "    ax[0].set_xlim(200,10000)\n",
    "    ax[0].set_ylim(1e-4,2e-3)"
   ]
  },
  {
   "cell_type": "code",
   "execution_count": null,
   "metadata": {},
   "outputs": [],
   "source": [
    "# interpolation helps even at 40 steps!\n",
    "\n",
    "ll   = len(z1_runs['256']['no_interp'][1.0].params['zs_source'])\n",
    "\n",
    "plt.figure(figsize=(ll*5,4))\n",
    "\n",
    "    \n",
    "x    = z1_runs['256']['no_interp'][1.0].measured_cls[str(zs)]['L']\n",
    "y    = z1_runs['256']['no_interp'][1.0].measured_cls[str(zs)]['clkk']\n",
    "yerr = z1_runs['256']['no_interp'][1.0].measured_cls[str(zs)]['clkk_std']/z1_runs['256']['no_interp'][1.0].measured_cls[str(zs)]['N']\n",
    "yt   = z1_runs['256']['no_interp'][1.0].theory_cls[str(zs)]['clkk']\n",
    "\n",
    "ratio = (y-yt)/yt\n",
    "ratio_error = (yerr)/yt \n",
    "\n",
    "fig, ax = plt.subplots(nrows=2, ncols=1, sharex=True, sharey=False, squeeze=True, gridspec_kw={'height_ratios':(4,3)})\n",
    "ax[0].set_title('$z_s$=%.1f'%zs,fontsize=14)\n",
    "ax[0].loglog(x,x**2*yt, label='HaloFit', color='darkblue')\n",
    "ax[0].loglog(x,x**2*y, label='MADLens', color='mediumseagreen')\n",
    "ax[0].fill_between(x, x**2*(y-yerr), x**2*(y+yerr),color='gray', alpha=0.2)\n",
    "ax[0].grid()\n",
    "\n",
    "ax[1].semilogx(x,ratio, color='mediumseagreen')\n",
    "ax[1].fill_between(x,ratio-ratio_error, ratio+ratio_error,color='gray', alpha=0.2)\n",
    "ax[1].grid()\n",
    "ax[1].set_ylim(-0.1,0.1)\n",
    "ax[1].set_ylabel('relative difference')\n",
    "ax[1].set_ylabel(r'$(C_{ML}^{\\kappa \\kappa}-C_{HF}^{\\kappa \\kappa})/C_{HF}^{\\kappa \\kappa}$',fontsize=14)\n",
    "\n",
    "ax[0].legend(fontsize=14)\n",
    "ax[0].set_ylabel('$L^2 C^{\\kappa \\kappa}_L$',fontsize=16)\n",
    "ax[1].set_xlabel('$L$',fontsize=14)\n",
    "ax[0].set_xlim(200,10000)\n",
    "ax[0].set_ylim(1e-4,2e-3)"
   ]
  },
  {
   "cell_type": "code",
   "execution_count": null,
   "metadata": {},
   "outputs": [],
   "source": [
    "# interpolation helps even at 40 steps!\n",
    "\n",
    "ll   = len(z1_runs['256']['interp']['1.2'].params['zs_source'])\n",
    "zs   = 1.2\n",
    "plt.figure(figsize=(ll*5,4))\n",
    "\n",
    "x    = z1_runs['256']['interp']['1.2'].measured_cls[str(zs)]['L']\n",
    "y    = z1_runs['256']['interp']['1.2'].measured_cls[str(zs)]['clkk']\n",
    "yerr = z1_runs['256']['interp']['1.2'].measured_cls[str(zs)]['clkk_std']/z1_runs['256']['interp']['1.2'].measured_cls[str(zs)]['N']\n",
    "yt   = z1_runs['256']['interp']['1.2'].theory_cls[str(zs)]['clkk']\n",
    "\n",
    "ratio = (y-yt)/yt\n",
    "ratio_error = (yerr)/yt \n",
    "\n",
    "fig, ax = plt.subplots(nrows=2, ncols=1, sharex=True, sharey=False, squeeze=True, gridspec_kw={'height_ratios':(4,3)})\n",
    "ax[0].set_title('$z_s$=%.1f'%zs,fontsize=14)\n",
    "ax[0].loglog(x,x**2*yt, label='HaloFit', color='darkblue')\n",
    "ax[0].loglog(x,x**2*y, label='MADLens', color='mediumseagreen')\n",
    "ax[0].fill_between(x, x**2*(y-yerr), x**2*(y+yerr),color='gray', alpha=0.2)\n",
    "ax[0].grid()\n",
    "\n",
    "ax[1].semilogx(x,ratio, color='mediumseagreen')\n",
    "ax[1].fill_between(x,ratio-ratio_error, ratio+ratio_error,color='gray', alpha=0.2)\n",
    "ax[1].grid()\n",
    "ax[1].set_ylim(-0.1,0.1)\n",
    "ax[1].set_ylabel('relative difference')\n",
    "ax[1].set_ylabel(r'$(C_{ML}^{\\kappa \\kappa}-C_{HF}^{\\kappa \\kappa})/C_{HF}^{\\kappa \\kappa}$',fontsize=14)\n",
    "\n",
    "ax[0].legend(fontsize=14)\n",
    "ax[0].set_ylabel('$L^2 C^{\\kappa \\kappa}_L$',fontsize=16)\n",
    "ax[1].set_xlabel('$L$',fontsize=14)\n",
    "ax[0].set_xlim(200,10000)\n",
    "ax[0].set_ylim(1e-4,3e-3)"
   ]
  },
  {
   "cell_type": "code",
   "execution_count": null,
   "metadata": {},
   "outputs": [],
   "source": [
    "# interpolation helps even at 40 steps!\n",
    "\n",
    "ll   = len(z1_runs['256']['interp']['0.8'].params['zs_source'])\n",
    "zs   = 0.8\n",
    "plt.figure(figsize=(ll*5,4))\n",
    "\n",
    "x    = z1_runs['256']['interp']['0.8'].measured_cls[str(zs)]['L']\n",
    "y    = z1_runs['256']['interp']['0.8'].measured_cls[str(zs)]['clkk']\n",
    "yerr = z1_runs['256']['interp']['0.8'].measured_cls[str(zs)]['clkk_std']/z1_runs['256']['interp']['0.8'].measured_cls[str(zs)]['N']\n",
    "yt   = z1_runs['256']['interp']['0.8'].theory_cls[str(zs)]['clkk']\n",
    "\n",
    "ratio = (y-yt)/yt\n",
    "ratio_error = (yerr)/yt \n",
    "\n",
    "fig, ax = plt.subplots(nrows=2, ncols=1, sharex=True, sharey=False, squeeze=True, gridspec_kw={'height_ratios':(4,3)})\n",
    "ax[0].set_title('$z_s$=%.1f'%zs,fontsize=14)\n",
    "ax[0].loglog(x,x**2*yt, label='HaloFit', color='darkblue')\n",
    "ax[0].loglog(x,x**2*y, label='MADLens', color='mediumseagreen')\n",
    "ax[0].fill_between(x, x**2*(y-yerr), x**2*(y+yerr),color='gray', alpha=0.2)\n",
    "ax[0].grid()\n",
    "\n",
    "ax[1].semilogx(x,ratio, color='mediumseagreen')\n",
    "ax[1].fill_between(x,ratio-ratio_error, ratio+ratio_error,color='gray', alpha=0.2)\n",
    "ax[1].grid()\n",
    "ax[1].set_ylim(-0.1,0.1)\n",
    "ax[1].set_ylabel('relative difference')\n",
    "ax[1].set_ylabel(r'$(C_{ML}^{\\kappa \\kappa}-C_{HF}^{\\kappa \\kappa})/C_{HF}^{\\kappa \\kappa}$',fontsize=14)\n",
    "\n",
    "ax[0].legend(fontsize=14)\n",
    "ax[0].set_ylabel('$L^2 C^{\\kappa \\kappa}_L$',fontsize=16)\n",
    "ax[1].set_xlabel('$L$',fontsize=14)\n",
    "ax[0].set_xlim(200,10000)\n",
    "ax[0].set_ylim(8e-5,1e-3)"
   ]
  },
  {
   "cell_type": "code",
   "execution_count": null,
   "metadata": {},
   "outputs": [],
   "source": [
    "# interpolation helps even at 40 steps!\n",
    "\n",
    "ll   = len(z1_runs['256']['interp']['0.5'].params['zs_source'])\n",
    "zs   = 0.5\n",
    "plt.figure(figsize=(ll*5,4))\n",
    "\n",
    "x    = z1_runs['256']['interp']['0.5'].measured_cls[str(zs)]['L']\n",
    "y    = z1_runs['256']['interp']['0.5'].measured_cls[str(zs)]['clkk']\n",
    "yerr = z1_runs['256']['interp']['0.5'].measured_cls[str(zs)]['clkk_std']/z1_runs['256']['interp']['0.5'].measured_cls[str(zs)]['N']\n",
    "yt   = z1_runs['256']['interp']['0.5'].theory_cls[str(zs)]['clkk']\n",
    "\n",
    "ratio = (y-yt)/yt\n",
    "ratio_error = (yerr)/yt \n",
    "\n",
    "fig, ax = plt.subplots(nrows=2, ncols=1, sharex=True, sharey=False, squeeze=True, gridspec_kw={'height_ratios':(4,3)})\n",
    "ax[0].set_title('$z_s$=%.1f'%zs,fontsize=14)\n",
    "ax[0].loglog(x,x**2*yt, label='HaloFit', color='darkblue')\n",
    "ax[0].loglog(x,x**2*y, label='MADLens', color='mediumseagreen')\n",
    "ax[0].fill_between(x, x**2*(y-yerr), x**2*(y+yerr),color='gray', alpha=0.2)\n",
    "ax[0].grid()\n",
    "\n",
    "ax[1].semilogx(x,ratio, color='mediumseagreen')\n",
    "ax[1].fill_between(x,ratio-ratio_error, ratio+ratio_error,color='gray', alpha=0.2)\n",
    "ax[1].grid()\n",
    "ax[1].set_ylim(-0.1,0.1)\n",
    "ax[1].set_ylabel('relative difference')\n",
    "ax[1].set_ylabel(r'$(C_{ML}^{\\kappa \\kappa}-C_{HF}^{\\kappa \\kappa})/C_{HF}^{\\kappa \\kappa}$',fontsize=14)\n",
    "\n",
    "ax[0].legend(fontsize=14)\n",
    "ax[0].set_ylabel('$L^2 C^{\\kappa \\kappa}_L$',fontsize=16)\n",
    "ax[1].set_xlabel('$L$',fontsize=14)\n",
    "ax[0].set_xlim(200,10000)\n",
    "ax[0].set_ylim(8e-5,1e-3)"
   ]
  },
  {
   "cell_type": "code",
   "execution_count": 127,
   "metadata": {},
   "outputs": [
    {
     "data": {
      "text/plain": [
       "dict_keys(['1.0', '0.5'])"
      ]
     },
     "execution_count": 127,
     "metadata": {},
     "output_type": "execute_result"
    }
   ],
   "source": [
    "z1_runs['256']['interp'].keys()"
   ]
  },
  {
   "cell_type": "code",
   "execution_count": 128,
   "metadata": {},
   "outputs": [
    {
     "data": {
      "text/plain": [
       "<MADLens.util.Run at 0x2aaaee1f5d50>"
      ]
     },
     "execution_count": 128,
     "metadata": {},
     "output_type": "execute_result"
    }
   ],
   "source": [
    "z1_runs['256']['interp']['0.5']"
   ]
  },
  {
   "cell_type": "code",
   "execution_count": null,
   "metadata": {},
   "outputs": [],
   "source": []
  }
 ],
 "metadata": {
  "kernelspec": {
   "display_name": "fwdmodel",
   "language": "python",
   "name": "fwdmodel"
  },
  "language_info": {
   "codemirror_mode": {
    "name": "ipython",
    "version": 3
   },
   "file_extension": ".py",
   "mimetype": "text/x-python",
   "name": "python",
   "nbconvert_exporter": "python",
   "pygments_lexer": "ipython3",
   "version": "3.7.7"
  }
 },
 "nbformat": 4,
 "nbformat_minor": 4
}
